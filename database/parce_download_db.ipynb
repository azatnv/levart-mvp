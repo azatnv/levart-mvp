{
 "cells": [
  {
   "cell_type": "code",
   "execution_count": 2,
   "metadata": {},
   "outputs": [
    {
     "name": "stdout",
     "output_type": "stream",
     "text": [
      "Looking in indexes: https://pypi.org/simple, https://pypi.ngc.nvidia.com\n",
      "Collecting sqlalchemy==1.4.46\n",
      "  Downloading SQLAlchemy-1.4.46-cp310-cp310-win_amd64.whl (1.6 MB)\n",
      "     ---------------------------------------- 1.6/1.6 MB 1.6 MB/s eta 0:00:00\n",
      "Collecting greenlet!=0.4.17\n",
      "  Downloading greenlet-2.0.2-cp310-cp310-win_amd64.whl (192 kB)\n",
      "     -------------------------------------- 192.2/192.2 kB 2.3 MB/s eta 0:00:00\n",
      "Installing collected packages: greenlet, sqlalchemy\n",
      "Successfully installed greenlet-2.0.2 sqlalchemy-1.4.46\n"
     ]
    }
   ],
   "source": [
    "!pip install sqlalchemy==1.4.46"
   ]
  },
  {
   "cell_type": "code",
   "execution_count": 3,
   "metadata": {},
   "outputs": [],
   "source": [
    "import os\n",
    "\n",
    "import pandas as pd\n",
    "from sqlalchemy import create_engine\n",
    "\n",
    "import datetime"
   ]
  },
  {
   "cell_type": "code",
   "execution_count": 158,
   "metadata": {},
   "outputs": [],
   "source": [
    "posgres_username = \"user\"\n",
    "posgres_password = \"password\"\n",
    "hostname = \"79.137.206.67:5432\"\n",
    "database_name = \"traveldata\"\n",
    "\n",
    "engine_setup = 'postgresql+psycopg2://{}:{}@{}/{}'.format(\n",
    "    posgres_username,\n",
    "    posgres_password,\n",
    "    hostname,\n",
    "    database_name\n",
    ")"
   ]
  },
  {
   "cell_type": "code",
   "execution_count": 159,
   "metadata": {},
   "outputs": [],
   "source": [
    "# create engine \n",
    "engine = create_engine(engine_setup)"
   ]
  },
  {
   "cell_type": "code",
   "execution_count": 12,
   "metadata": {},
   "outputs": [],
   "source": [
    "data_root = \"./data/\""
   ]
  },
  {
   "cell_type": "markdown",
   "metadata": {},
   "source": [
    "### download_data"
   ]
  },
  {
   "cell_type": "code",
   "execution_count": 13,
   "metadata": {},
   "outputs": [],
   "source": [
    "data = pd.read_json(\n",
    "    os.path.join(\n",
    "        data_root,\n",
    "        \"TA_places_with_YANDEX_addresses.json\"\n",
    "    ), \n",
    "    orient='split',\n",
    "    encoding=\"utf-8\"\n",
    ")"
   ]
  },
  {
   "cell_type": "code",
   "execution_count": 14,
   "metadata": {},
   "outputs": [
    {
     "data": {
      "text/html": [
       "<div>\n",
       "<style scoped>\n",
       "    .dataframe tbody tr th:only-of-type {\n",
       "        vertical-align: middle;\n",
       "    }\n",
       "\n",
       "    .dataframe tbody tr th {\n",
       "        vertical-align: top;\n",
       "    }\n",
       "\n",
       "    .dataframe thead th {\n",
       "        text-align: right;\n",
       "    }\n",
       "</style>\n",
       "<table border=\"1\" class=\"dataframe\">\n",
       "  <thead>\n",
       "    <tr style=\"text-align: right;\">\n",
       "      <th></th>\n",
       "      <th>place_name</th>\n",
       "      <th>place_tags</th>\n",
       "      <th>place_address</th>\n",
       "      <th>place_rating</th>\n",
       "      <th>reviews_qty</th>\n",
       "      <th>reviews</th>\n",
       "      <th>place_url</th>\n",
       "      <th>longitude</th>\n",
       "      <th>latitude</th>\n",
       "      <th>yandex_place_address</th>\n",
       "      <th>postal_code</th>\n",
       "      <th>house</th>\n",
       "      <th>street</th>\n",
       "      <th>locality</th>\n",
       "      <th>province</th>\n",
       "      <th>country</th>\n",
       "    </tr>\n",
       "  </thead>\n",
       "  <tbody>\n",
       "    <tr>\n",
       "      <th>0</th>\n",
       "      <td>Набережная Pеки Тура</td>\n",
       "      <td>[Пирсы и пляжные променады]</td>\n",
       "      <td>ул. Республики, 4, Тюмень 625003 Россия</td>\n",
       "      <td>4.5</td>\n",
       "      <td>639</td>\n",
       "      <td>[{'review_title': 'Интересно прогуляться', 're...</td>\n",
       "      <td>https://www.tripadvisor.ru/Attraction_Review-g...</td>\n",
       "      <td>65.522371</td>\n",
       "      <td>57.161884</td>\n",
       "      <td>Россия, Тюмень, улица Республики, 4</td>\n",
       "      <td>NaN</td>\n",
       "      <td>4</td>\n",
       "      <td>улица Республики</td>\n",
       "      <td>Тюмень</td>\n",
       "      <td>Тюменская область</td>\n",
       "      <td>Россия</td>\n",
       "    </tr>\n",
       "    <tr>\n",
       "      <th>1</th>\n",
       "      <td>Мост Влюбленных (Пешеходный)</td>\n",
       "      <td>[Мосты]</td>\n",
       "      <td>ул.Республики и ул.Ленина, Тюмень 625026 Россия</td>\n",
       "      <td>4.5</td>\n",
       "      <td>516</td>\n",
       "      <td>[{'review_title': 'Мост влюбленных. Красота', ...</td>\n",
       "      <td>https://www.tripadvisor.ru/Attraction_Review-g...</td>\n",
       "      <td>65.533429</td>\n",
       "      <td>57.154605</td>\n",
       "      <td>Россия, Тюмень, улица Ленина</td>\n",
       "      <td>NaN</td>\n",
       "      <td>None</td>\n",
       "      <td>улица Ленина</td>\n",
       "      <td>Тюмень</td>\n",
       "      <td>Тюменская область</td>\n",
       "      <td>Россия</td>\n",
       "    </tr>\n",
       "    <tr>\n",
       "      <th>2</th>\n",
       "      <td>Сквер сибирских кошек</td>\n",
       "      <td>[Парки]</td>\n",
       "      <td>ул.Первомайская, 11, Тюмень 625000 Россия</td>\n",
       "      <td>4.0</td>\n",
       "      <td>298</td>\n",
       "      <td>[{'review_title': 'Забавно', 'review_body': 'К...</td>\n",
       "      <td>https://www.tripadvisor.ru/Attraction_Review-g...</td>\n",
       "      <td>65.536708</td>\n",
       "      <td>57.153741</td>\n",
       "      <td>Россия, Тюмень, Первомайская улица, 11</td>\n",
       "      <td>625000.0</td>\n",
       "      <td>11</td>\n",
       "      <td>Первомайская улица</td>\n",
       "      <td>Тюмень</td>\n",
       "      <td>Тюменская область</td>\n",
       "      <td>Россия</td>\n",
       "    </tr>\n",
       "    <tr>\n",
       "      <th>3</th>\n",
       "      <td>Свято-троицкий мужской монастырь</td>\n",
       "      <td>[Церкви и соборы]</td>\n",
       "      <td>Коммунистическая, 10, Тюмень 625001 Россия</td>\n",
       "      <td>5.0</td>\n",
       "      <td>58</td>\n",
       "      <td>[{'review_title': 'БЛАГОДАТНОЕ МЕСТО', 'review...</td>\n",
       "      <td>https://www.tripadvisor.ru/Attraction_Review-g...</td>\n",
       "      <td>65.512840</td>\n",
       "      <td>57.169863</td>\n",
       "      <td>Россия, Тюмень, Коммунистическая улица, 10</td>\n",
       "      <td>625001.0</td>\n",
       "      <td>10</td>\n",
       "      <td>Коммунистическая улица</td>\n",
       "      <td>Тюмень</td>\n",
       "      <td>Тюменская область</td>\n",
       "      <td>Россия</td>\n",
       "    </tr>\n",
       "    <tr>\n",
       "      <th>4</th>\n",
       "      <td>Памятник бездомной собаке</td>\n",
       "      <td>[Культурные объекты и достопримечательности, П...</td>\n",
       "      <td>ул. Орджоникидзе, 63, Тюмень 625002 Россия</td>\n",
       "      <td>4.5</td>\n",
       "      <td>93</td>\n",
       "      <td>[{'review_title': 'Памятник-копилка', 'review_...</td>\n",
       "      <td>https://www.tripadvisor.ru/Attraction_Review-g...</td>\n",
       "      <td>65.541999</td>\n",
       "      <td>57.149357</td>\n",
       "      <td>Россия, Тюмень, улица Орджоникидзе, 63</td>\n",
       "      <td>625000.0</td>\n",
       "      <td>63</td>\n",
       "      <td>улица Орджоникидзе</td>\n",
       "      <td>Тюмень</td>\n",
       "      <td>Тюменская область</td>\n",
       "      <td>Россия</td>\n",
       "    </tr>\n",
       "  </tbody>\n",
       "</table>\n",
       "</div>"
      ],
      "text/plain": [
       "                         place_name  \\\n",
       "0              Набережная Pеки Тура   \n",
       "1      Мост Влюбленных (Пешеходный)   \n",
       "2             Сквер сибирских кошек   \n",
       "3  Свято-троицкий мужской монастырь   \n",
       "4         Памятник бездомной собаке   \n",
       "\n",
       "                                          place_tags  \\\n",
       "0                        [Пирсы и пляжные променады]   \n",
       "1                                            [Мосты]   \n",
       "2                                            [Парки]   \n",
       "3                                  [Церкви и соборы]   \n",
       "4  [Культурные объекты и достопримечательности, П...   \n",
       "\n",
       "                                     place_address  place_rating  reviews_qty  \\\n",
       "0          ул. Республики, 4, Тюмень 625003 Россия           4.5          639   \n",
       "1  ул.Республики и ул.Ленина, Тюмень 625026 Россия           4.5          516   \n",
       "2        ул.Первомайская, 11, Тюмень 625000 Россия           4.0          298   \n",
       "3       Коммунистическая, 10, Тюмень 625001 Россия           5.0           58   \n",
       "4       ул. Орджоникидзе, 63, Тюмень 625002 Россия           4.5           93   \n",
       "\n",
       "                                             reviews  \\\n",
       "0  [{'review_title': 'Интересно прогуляться', 're...   \n",
       "1  [{'review_title': 'Мост влюбленных. Красота', ...   \n",
       "2  [{'review_title': 'Забавно', 'review_body': 'К...   \n",
       "3  [{'review_title': 'БЛАГОДАТНОЕ МЕСТО', 'review...   \n",
       "4  [{'review_title': 'Памятник-копилка', 'review_...   \n",
       "\n",
       "                                           place_url  longitude   latitude  \\\n",
       "0  https://www.tripadvisor.ru/Attraction_Review-g...  65.522371  57.161884   \n",
       "1  https://www.tripadvisor.ru/Attraction_Review-g...  65.533429  57.154605   \n",
       "2  https://www.tripadvisor.ru/Attraction_Review-g...  65.536708  57.153741   \n",
       "3  https://www.tripadvisor.ru/Attraction_Review-g...  65.512840  57.169863   \n",
       "4  https://www.tripadvisor.ru/Attraction_Review-g...  65.541999  57.149357   \n",
       "\n",
       "                         yandex_place_address  postal_code house  \\\n",
       "0         Россия, Тюмень, улица Республики, 4          NaN     4   \n",
       "1                Россия, Тюмень, улица Ленина          NaN  None   \n",
       "2      Россия, Тюмень, Первомайская улица, 11     625000.0    11   \n",
       "3  Россия, Тюмень, Коммунистическая улица, 10     625001.0    10   \n",
       "4      Россия, Тюмень, улица Орджоникидзе, 63     625000.0    63   \n",
       "\n",
       "                   street locality           province country  \n",
       "0        улица Республики   Тюмень  Тюменская область  Россия  \n",
       "1            улица Ленина   Тюмень  Тюменская область  Россия  \n",
       "2      Первомайская улица   Тюмень  Тюменская область  Россия  \n",
       "3  Коммунистическая улица   Тюмень  Тюменская область  Россия  \n",
       "4      улица Орджоникидзе   Тюмень  Тюменская область  Россия  "
      ]
     },
     "execution_count": 14,
     "metadata": {},
     "output_type": "execute_result"
    }
   ],
   "source": [
    "data.head()"
   ]
  },
  {
   "cell_type": "markdown",
   "metadata": {},
   "source": [
    "-----"
   ]
  },
  {
   "cell_type": "code",
   "execution_count": 50,
   "metadata": {},
   "outputs": [],
   "source": [
    "places = data[[\"place_name\"]]"
   ]
  },
  {
   "cell_type": "code",
   "execution_count": 55,
   "metadata": {},
   "outputs": [
    {
     "data": {
      "text/plain": [
       "199"
      ]
     },
     "execution_count": 55,
     "metadata": {},
     "output_type": "execute_result"
    }
   ],
   "source": [
    "places.to_sql(\n",
    "    name=\"places\", \n",
    "    con=engine, \n",
    "    schema=\"dbo\",\n",
    "    index=False,\n",
    "    method=\"multi\",\n",
    "    if_exists=\"append\" # append - добавляет строки в существующую таблицу /\n",
    ")                      # replace - дропает таблицу и записывает заново"
   ]
  },
  {
   "cell_type": "markdown",
   "metadata": {},
   "source": [
    "----"
   ]
  },
  {
   "cell_type": "code",
   "execution_count": 134,
   "metadata": {},
   "outputs": [],
   "source": [
    "tags = data[[\"place_tags\"]]"
   ]
  },
  {
   "cell_type": "code",
   "execution_count": 135,
   "metadata": {},
   "outputs": [],
   "source": [
    "tags.insert(0, \"place_id\", data.index+1)"
   ]
  },
  {
   "cell_type": "code",
   "execution_count": 136,
   "metadata": {},
   "outputs": [],
   "source": [
    "tags.columns = [\"place_id\", \"tag\"]"
   ]
  },
  {
   "cell_type": "code",
   "execution_count": 138,
   "metadata": {},
   "outputs": [],
   "source": [
    "tags = tags.explode(\"tag\").copy()"
   ]
  },
  {
   "cell_type": "code",
   "execution_count": 139,
   "metadata": {},
   "outputs": [
    {
     "data": {
      "text/html": [
       "<div>\n",
       "<style scoped>\n",
       "    .dataframe tbody tr th:only-of-type {\n",
       "        vertical-align: middle;\n",
       "    }\n",
       "\n",
       "    .dataframe tbody tr th {\n",
       "        vertical-align: top;\n",
       "    }\n",
       "\n",
       "    .dataframe thead th {\n",
       "        text-align: right;\n",
       "    }\n",
       "</style>\n",
       "<table border=\"1\" class=\"dataframe\">\n",
       "  <thead>\n",
       "    <tr style=\"text-align: right;\">\n",
       "      <th></th>\n",
       "      <th>place_id</th>\n",
       "      <th>tag</th>\n",
       "    </tr>\n",
       "  </thead>\n",
       "  <tbody>\n",
       "    <tr>\n",
       "      <th>0</th>\n",
       "      <td>1</td>\n",
       "      <td>Пирсы и пляжные променады</td>\n",
       "    </tr>\n",
       "    <tr>\n",
       "      <th>1</th>\n",
       "      <td>2</td>\n",
       "      <td>Мосты</td>\n",
       "    </tr>\n",
       "    <tr>\n",
       "      <th>2</th>\n",
       "      <td>3</td>\n",
       "      <td>Парки</td>\n",
       "    </tr>\n",
       "    <tr>\n",
       "      <th>3</th>\n",
       "      <td>4</td>\n",
       "      <td>Церкви и соборы</td>\n",
       "    </tr>\n",
       "    <tr>\n",
       "      <th>4</th>\n",
       "      <td>5</td>\n",
       "      <td>Культурные объекты и достопримечательности</td>\n",
       "    </tr>\n",
       "    <tr>\n",
       "      <th>4</th>\n",
       "      <td>5</td>\n",
       "      <td>Памятники и статуи</td>\n",
       "    </tr>\n",
       "    <tr>\n",
       "      <th>5</th>\n",
       "      <td>6</td>\n",
       "      <td>Церкви и соборы</td>\n",
       "    </tr>\n",
       "    <tr>\n",
       "      <th>6</th>\n",
       "      <td>7</td>\n",
       "      <td>Театры</td>\n",
       "    </tr>\n",
       "    <tr>\n",
       "      <th>7</th>\n",
       "      <td>8</td>\n",
       "      <td>Парки</td>\n",
       "    </tr>\n",
       "    <tr>\n",
       "      <th>8</th>\n",
       "      <td>9</td>\n",
       "      <td>Культурные объекты и достопримечательности</td>\n",
       "    </tr>\n",
       "  </tbody>\n",
       "</table>\n",
       "</div>"
      ],
      "text/plain": [
       "   place_id                                         tag\n",
       "0         1                   Пирсы и пляжные променады\n",
       "1         2                                       Мосты\n",
       "2         3                                       Парки\n",
       "3         4                             Церкви и соборы\n",
       "4         5  Культурные объекты и достопримечательности\n",
       "4         5                          Памятники и статуи\n",
       "5         6                             Церкви и соборы\n",
       "6         7                                      Театры\n",
       "7         8                                       Парки\n",
       "8         9  Культурные объекты и достопримечательности"
      ]
     },
     "execution_count": 139,
     "metadata": {},
     "output_type": "execute_result"
    }
   ],
   "source": [
    "tags.head(10)"
   ]
  },
  {
   "cell_type": "code",
   "execution_count": 140,
   "metadata": {},
   "outputs": [
    {
     "data": {
      "text/plain": [
       "227"
      ]
     },
     "execution_count": 140,
     "metadata": {},
     "output_type": "execute_result"
    }
   ],
   "source": [
    "tags.to_sql(\n",
    "    name=\"tags\", \n",
    "    con=engine, \n",
    "    schema=\"dbo\",\n",
    "    index=False,\n",
    "    method=\"multi\",\n",
    "    if_exists=\"replace\" # append - добавляет строки в существующую таблицу /\n",
    ")                      # replace - дропает таблицу и записывает заново"
   ]
  },
  {
   "cell_type": "markdown",
   "metadata": {},
   "source": [
    "----"
   ]
  },
  {
   "cell_type": "code",
   "execution_count": 184,
   "metadata": {},
   "outputs": [],
   "source": [
    "comments = data[[\"reviews\"]]"
   ]
  },
  {
   "cell_type": "code",
   "execution_count": 185,
   "metadata": {},
   "outputs": [],
   "source": [
    "comments.insert(0, \"place_id\", data.index+1)"
   ]
  },
  {
   "cell_type": "code",
   "execution_count": 186,
   "metadata": {},
   "outputs": [],
   "source": [
    "comments = comments.explode(\"reviews\").copy()"
   ]
  },
  {
   "cell_type": "code",
   "execution_count": 187,
   "metadata": {},
   "outputs": [],
   "source": [
    "comments.columns = [\"place_id\", \"comment\"]"
   ]
  },
  {
   "cell_type": "code",
   "execution_count": 188,
   "metadata": {},
   "outputs": [
    {
     "data": {
      "text/plain": [
       "3841"
      ]
     },
     "execution_count": 188,
     "metadata": {},
     "output_type": "execute_result"
    }
   ],
   "source": [
    "comments.to_sql(\n",
    "    name=\"comments\", \n",
    "    con=engine, \n",
    "    schema=\"dbo\",\n",
    "    index=False,\n",
    "    method=\"multi\",\n",
    "    dtype={\"comment\": sqlalchemy.types.JSON},\n",
    "    if_exists=\"replace\" # append - добавляет строки в существующую таблицу /\n",
    ")                      # replace - дропает таблицу и записывает заново"
   ]
  },
  {
   "cell_type": "markdown",
   "metadata": {},
   "source": [
    "----"
   ]
  },
  {
   "cell_type": "code",
   "execution_count": 172,
   "metadata": {},
   "outputs": [],
   "source": [
    "place_info = data[[\"place_rating\",\t\"reviews_qty\"]]"
   ]
  },
  {
   "cell_type": "code",
   "execution_count": 173,
   "metadata": {},
   "outputs": [],
   "source": [
    "place_info.insert(0, \"place_id\", data.index+1)"
   ]
  },
  {
   "cell_type": "code",
   "execution_count": 174,
   "metadata": {},
   "outputs": [],
   "source": [
    "place_info.insert(1, \"info_datetime\", datetime.datetime.now().strftime(\"%Y-%m-%d %H:%M:%S\"))"
   ]
  },
  {
   "cell_type": "code",
   "execution_count": 175,
   "metadata": {},
   "outputs": [
    {
     "data": {
      "text/html": [
       "<div>\n",
       "<style scoped>\n",
       "    .dataframe tbody tr th:only-of-type {\n",
       "        vertical-align: middle;\n",
       "    }\n",
       "\n",
       "    .dataframe tbody tr th {\n",
       "        vertical-align: top;\n",
       "    }\n",
       "\n",
       "    .dataframe thead th {\n",
       "        text-align: right;\n",
       "    }\n",
       "</style>\n",
       "<table border=\"1\" class=\"dataframe\">\n",
       "  <thead>\n",
       "    <tr style=\"text-align: right;\">\n",
       "      <th></th>\n",
       "      <th>place_id</th>\n",
       "      <th>info_datetime</th>\n",
       "      <th>place_rating</th>\n",
       "      <th>reviews_qty</th>\n",
       "    </tr>\n",
       "  </thead>\n",
       "  <tbody>\n",
       "    <tr>\n",
       "      <th>0</th>\n",
       "      <td>1</td>\n",
       "      <td>2023-03-08 16:23:37</td>\n",
       "      <td>4.5</td>\n",
       "      <td>639</td>\n",
       "    </tr>\n",
       "    <tr>\n",
       "      <th>1</th>\n",
       "      <td>2</td>\n",
       "      <td>2023-03-08 16:23:37</td>\n",
       "      <td>4.5</td>\n",
       "      <td>516</td>\n",
       "    </tr>\n",
       "    <tr>\n",
       "      <th>2</th>\n",
       "      <td>3</td>\n",
       "      <td>2023-03-08 16:23:37</td>\n",
       "      <td>4.0</td>\n",
       "      <td>298</td>\n",
       "    </tr>\n",
       "    <tr>\n",
       "      <th>3</th>\n",
       "      <td>4</td>\n",
       "      <td>2023-03-08 16:23:37</td>\n",
       "      <td>5.0</td>\n",
       "      <td>58</td>\n",
       "    </tr>\n",
       "    <tr>\n",
       "      <th>4</th>\n",
       "      <td>5</td>\n",
       "      <td>2023-03-08 16:23:37</td>\n",
       "      <td>4.5</td>\n",
       "      <td>93</td>\n",
       "    </tr>\n",
       "  </tbody>\n",
       "</table>\n",
       "</div>"
      ],
      "text/plain": [
       "   place_id        info_datetime  place_rating  reviews_qty\n",
       "0         1  2023-03-08 16:23:37           4.5          639\n",
       "1         2  2023-03-08 16:23:37           4.5          516\n",
       "2         3  2023-03-08 16:23:37           4.0          298\n",
       "3         4  2023-03-08 16:23:37           5.0           58\n",
       "4         5  2023-03-08 16:23:37           4.5           93"
      ]
     },
     "execution_count": 175,
     "metadata": {},
     "output_type": "execute_result"
    }
   ],
   "source": [
    "place_info.head()"
   ]
  },
  {
   "cell_type": "code",
   "execution_count": 181,
   "metadata": {},
   "outputs": [
    {
     "data": {
      "text/plain": [
       "199"
      ]
     },
     "execution_count": 181,
     "metadata": {},
     "output_type": "execute_result"
    }
   ],
   "source": [
    "place_info.to_sql(\n",
    "    name=\"place_info\", \n",
    "    con=engine, \n",
    "    schema=\"dbo\",\n",
    "    index=False,\n",
    "    method=\"multi\",\n",
    "    if_exists=\"replace\" # append - добавляет строки в существующую таблицу /\n",
    ")                      # replace - дропает таблицу и записывает заново"
   ]
  },
  {
   "cell_type": "markdown",
   "metadata": {},
   "source": [
    "---\n",
    "\n",
    "Дима, прогони у себя код ниже. Похоже у меня нет прав на запись в бд\n",
    "\n",
    "ProgrammingError: (psycopg2.errors.InsufficientPrivilege) permission denied for relation coordinates\n",
    "\n",
    "Вроде не критично, но:\n",
    "- в таблице coordinates в колоке longitude пропущена буква i\n",
    "- в имени таблицы addresses пропущена буква d"
   ]
  },
  {
   "cell_type": "code",
   "execution_count": 39,
   "metadata": {},
   "outputs": [],
   "source": [
    "DB_URL = os.getenv(\"DATABASE_URL\")\n",
    "engine = create_engine(DB_URL)"
   ]
  },
  {
   "cell_type": "code",
   "execution_count": 40,
   "metadata": {},
   "outputs": [],
   "source": [
    "coordinates = data[[\"longitude\", \"latitude\"]].copy()\n",
    "\n",
    "#  в имени колонки longitude пропущена буква\n",
    "coordinates.rename({'longitude': 'longtude'} , axis = 1, inplace=True)"
   ]
  },
  {
   "cell_type": "code",
   "execution_count": 41,
   "metadata": {},
   "outputs": [],
   "source": [
    "coordinates.insert(0, \"place_id\", data.index+1)"
   ]
  },
  {
   "cell_type": "code",
   "execution_count": 42,
   "metadata": {},
   "outputs": [
    {
     "ename": "ProgrammingError",
     "evalue": "(psycopg2.errors.InsufficientPrivilege) permission denied for relation coordinates\n\n[SQL: INSERT INTO dbo.coordinates (place_id, longtude, latitude) VALUES (%(place_id_m0)s, %(longtude_m0)s, %(latitude_m0)s), (%(place_id_m1)s, %(longtude_m1)s, %(latitude_m1)s), (%(place_id_m2)s, %(longtude_m2)s, %(latitude_m2)s), (%(place_id_m3)s, %(longtude_m3)s, %(latitude_m3)s), (%(place_id_m4)s, %(longtude_m4)s, %(latitude_m4)s), (%(place_id_m5)s, %(longtude_m5)s, %(latitude_m5)s), (%(place_id_m6)s, %(longtude_m6)s, %(latitude_m6)s), (%(place_id_m7)s, %(longtude_m7)s, %(latitude_m7)s), (%(place_id_m8)s, %(longtude_m8)s, %(latitude_m8)s), (%(place_id_m9)s, %(longtude_m9)s, %(latitude_m9)s), (%(place_id_m10)s, %(longtude_m10)s, %(latitude_m10)s), (%(place_id_m11)s, %(longtude_m11)s, %(latitude_m11)s), (%(place_id_m12)s, %(longtude_m12)s, %(latitude_m12)s), (%(place_id_m13)s, %(longtude_m13)s, %(latitude_m13)s), (%(place_id_m14)s, %(longtude_m14)s, %(latitude_m14)s), (%(place_id_m15)s, %(longtude_m15)s, %(latitude_m15)s), (%(place_id_m16)s, %(longtude_m16)s, %(latitude_m16)s), (%(place_id_m17)s, %(longtude_m17)s, %(latitude_m17)s), (%(place_id_m18)s, %(longtude_m18)s, %(latitude_m18)s), (%(place_id_m19)s, %(longtude_m19)s, %(latitude_m19)s), (%(place_id_m20)s, %(longtude_m20)s, %(latitude_m20)s), (%(place_id_m21)s, %(longtude_m21)s, %(latitude_m21)s), (%(place_id_m22)s, %(longtude_m22)s, %(latitude_m22)s), (%(place_id_m23)s, %(longtude_m23)s, %(latitude_m23)s), (%(place_id_m24)s, %(longtude_m24)s, %(latitude_m24)s), (%(place_id_m25)s, %(longtude_m25)s, %(latitude_m25)s), (%(place_id_m26)s, %(longtude_m26)s, %(latitude_m26)s), (%(place_id_m27)s, %(longtude_m27)s, %(latitude_m27)s), (%(place_id_m28)s, %(longtude_m28)s, %(latitude_m28)s), (%(place_id_m29)s, %(longtude_m29)s, %(latitude_m29)s), (%(place_id_m30)s, %(longtude_m30)s, %(latitude_m30)s), (%(place_id_m31)s, %(longtude_m31)s, %(latitude_m31)s), (%(place_id_m32)s, %(longtude_m32)s, %(latitude_m32)s), (%(place_id_m33)s, %(longtude_m33)s, %(latitude_m33)s), (%(place_id_m34)s, %(longtude_m34)s, %(latitude_m34)s), (%(place_id_m35)s, %(longtude_m35)s, %(latitude_m35)s), (%(place_id_m36)s, %(longtude_m36)s, %(latitude_m36)s), (%(place_id_m37)s, %(longtude_m37)s, %(latitude_m37)s), (%(place_id_m38)s, %(longtude_m38)s, %(latitude_m38)s), (%(place_id_m39)s, %(longtude_m39)s, %(latitude_m39)s), (%(place_id_m40)s, %(longtude_m40)s, %(latitude_m40)s), (%(place_id_m41)s, %(longtude_m41)s, %(latitude_m41)s), (%(place_id_m42)s, %(longtude_m42)s, %(latitude_m42)s), (%(place_id_m43)s, %(longtude_m43)s, %(latitude_m43)s), (%(place_id_m44)s, %(longtude_m44)s, %(latitude_m44)s), (%(place_id_m45)s, %(longtude_m45)s, %(latitude_m45)s), (%(place_id_m46)s, %(longtude_m46)s, %(latitude_m46)s), (%(place_id_m47)s, %(longtude_m47)s, %(latitude_m47)s), (%(place_id_m48)s, %(longtude_m48)s, %(latitude_m48)s), (%(place_id_m49)s, %(longtude_m49)s, %(latitude_m49)s), (%(place_id_m50)s, %(longtude_m50)s, %(latitude_m50)s), (%(place_id_m51)s, %(longtude_m51)s, %(latitude_m51)s), (%(place_id_m52)s, %(longtude_m52)s, %(latitude_m52)s), (%(place_id_m53)s, %(longtude_m53)s, %(latitude_m53)s), (%(place_id_m54)s, %(longtude_m54)s, %(latitude_m54)s), (%(place_id_m55)s, %(longtude_m55)s, %(latitude_m55)s), (%(place_id_m56)s, %(longtude_m56)s, %(latitude_m56)s), (%(place_id_m57)s, %(longtude_m57)s, %(latitude_m57)s), (%(place_id_m58)s, %(longtude_m58)s, %(latitude_m58)s), (%(place_id_m59)s, %(longtude_m59)s, %(latitude_m59)s), (%(place_id_m60)s, %(longtude_m60)s, %(latitude_m60)s), (%(place_id_m61)s, %(longtude_m61)s, %(latitude_m61)s), (%(place_id_m62)s, %(longtude_m62)s, %(latitude_m62)s), (%(place_id_m63)s, %(longtude_m63)s, %(latitude_m63)s), (%(place_id_m64)s, %(longtude_m64)s, %(latitude_m64)s), (%(place_id_m65)s, %(longtude_m65)s, %(latitude_m65)s), (%(place_id_m66)s, %(longtude_m66)s, %(latitude_m66)s), (%(place_id_m67)s, %(longtude_m67)s, %(latitude_m67)s), (%(place_id_m68)s, %(longtude_m68)s, %(latitude_m68)s), (%(place_id_m69)s, %(longtude_m69)s, %(latitude_m69)s), (%(place_id_m70)s, %(longtude_m70)s, %(latitude_m70)s), (%(place_id_m71)s, %(longtude_m71)s, %(latitude_m71)s), (%(place_id_m72)s, %(longtude_m72)s, %(latitude_m72)s), (%(place_id_m73)s, %(longtude_m73)s, %(latitude_m73)s), (%(place_id_m74)s, %(longtude_m74)s, %(latitude_m74)s), (%(place_id_m75)s, %(longtude_m75)s, %(latitude_m75)s), (%(place_id_m76)s, %(longtude_m76)s, %(latitude_m76)s), (%(place_id_m77)s, %(longtude_m77)s, %(latitude_m77)s), (%(place_id_m78)s, %(longtude_m78)s, %(latitude_m78)s), (%(place_id_m79)s, %(longtude_m79)s, %(latitude_m79)s), (%(place_id_m80)s, %(longtude_m80)s, %(latitude_m80)s), (%(place_id_m81)s, %(longtude_m81)s, %(latitude_m81)s), (%(place_id_m82)s, %(longtude_m82)s, %(latitude_m82)s), (%(place_id_m83)s, %(longtude_m83)s, %(latitude_m83)s), (%(place_id_m84)s, %(longtude_m84)s, %(latitude_m84)s), (%(place_id_m85)s, %(longtude_m85)s, %(latitude_m85)s), (%(place_id_m86)s, %(longtude_m86)s, %(latitude_m86)s), (%(place_id_m87)s, %(longtude_m87)s, %(latitude_m87)s), (%(place_id_m88)s, %(longtude_m88)s, %(latitude_m88)s), (%(place_id_m89)s, %(longtude_m89)s, %(latitude_m89)s), (%(place_id_m90)s, %(longtude_m90)s, %(latitude_m90)s), (%(place_id_m91)s, %(longtude_m91)s, %(latitude_m91)s), (%(place_id_m92)s, %(longtude_m92)s, %(latitude_m92)s), (%(place_id_m93)s, %(longtude_m93)s, %(latitude_m93)s), (%(place_id_m94)s, %(longtude_m94)s, %(latitude_m94)s), (%(place_id_m95)s, %(longtude_m95)s, %(latitude_m95)s), (%(place_id_m96)s, %(longtude_m96)s, %(latitude_m96)s), (%(place_id_m97)s, %(longtude_m97)s, %(latitude_m97)s), (%(place_id_m98)s, %(longtude_m98)s, %(latitude_m98)s), (%(place_id_m99)s, %(longtude_m99)s, %(latitude_m99)s), (%(place_id_m100)s, %(longtude_m100)s, %(latitude_m100)s), (%(place_id_m101)s, %(longtude_m101)s, %(latitude_m101)s), (%(place_id_m102)s, %(longtude_m102)s, %(latitude_m102)s), (%(place_id_m103)s, %(longtude_m103)s, %(latitude_m103)s), (%(place_id_m104)s, %(longtude_m104)s, %(latitude_m104)s), (%(place_id_m105)s, %(longtude_m105)s, %(latitude_m105)s), (%(place_id_m106)s, %(longtude_m106)s, %(latitude_m106)s), (%(place_id_m107)s, %(longtude_m107)s, %(latitude_m107)s), (%(place_id_m108)s, %(longtude_m108)s, %(latitude_m108)s), (%(place_id_m109)s, %(longtude_m109)s, %(latitude_m109)s), (%(place_id_m110)s, %(longtude_m110)s, %(latitude_m110)s), (%(place_id_m111)s, %(longtude_m111)s, %(latitude_m111)s), (%(place_id_m112)s, %(longtude_m112)s, %(latitude_m112)s), (%(place_id_m113)s, %(longtude_m113)s, %(latitude_m113)s), (%(place_id_m114)s, %(longtude_m114)s, %(latitude_m114)s), (%(place_id_m115)s, %(longtude_m115)s, %(latitude_m115)s), (%(place_id_m116)s, %(longtude_m116)s, %(latitude_m116)s), (%(place_id_m117)s, %(longtude_m117)s, %(latitude_m117)s), (%(place_id_m118)s, %(longtude_m118)s, %(latitude_m118)s), (%(place_id_m119)s, %(longtude_m119)s, %(latitude_m119)s), (%(place_id_m120)s, %(longtude_m120)s, %(latitude_m120)s), (%(place_id_m121)s, %(longtude_m121)s, %(latitude_m121)s), (%(place_id_m122)s, %(longtude_m122)s, %(latitude_m122)s), (%(place_id_m123)s, %(longtude_m123)s, %(latitude_m123)s), (%(place_id_m124)s, %(longtude_m124)s, %(latitude_m124)s), (%(place_id_m125)s, %(longtude_m125)s, %(latitude_m125)s), (%(place_id_m126)s, %(longtude_m126)s, %(latitude_m126)s), (%(place_id_m127)s, %(longtude_m127)s, %(latitude_m127)s), (%(place_id_m128)s, %(longtude_m128)s, %(latitude_m128)s), (%(place_id_m129)s, %(longtude_m129)s, %(latitude_m129)s), (%(place_id_m130)s, %(longtude_m130)s, %(latitude_m130)s), (%(place_id_m131)s, %(longtude_m131)s, %(latitude_m131)s), (%(place_id_m132)s, %(longtude_m132)s, %(latitude_m132)s), (%(place_id_m133)s, %(longtude_m133)s, %(latitude_m133)s), (%(place_id_m134)s, %(longtude_m134)s, %(latitude_m134)s), (%(place_id_m135)s, %(longtude_m135)s, %(latitude_m135)s), (%(place_id_m136)s, %(longtude_m136)s, %(latitude_m136)s), (%(place_id_m137)s, %(longtude_m137)s, %(latitude_m137)s), (%(place_id_m138)s, %(longtude_m138)s, %(latitude_m138)s), (%(place_id_m139)s, %(longtude_m139)s, %(latitude_m139)s), (%(place_id_m140)s, %(longtude_m140)s, %(latitude_m140)s), (%(place_id_m141)s, %(longtude_m141)s, %(latitude_m141)s), (%(place_id_m142)s, %(longtude_m142)s, %(latitude_m142)s), (%(place_id_m143)s, %(longtude_m143)s, %(latitude_m143)s), (%(place_id_m144)s, %(longtude_m144)s, %(latitude_m144)s), (%(place_id_m145)s, %(longtude_m145)s, %(latitude_m145)s), (%(place_id_m146)s, %(longtude_m146)s, %(latitude_m146)s), (%(place_id_m147)s, %(longtude_m147)s, %(latitude_m147)s), (%(place_id_m148)s, %(longtude_m148)s, %(latitude_m148)s), (%(place_id_m149)s, %(longtude_m149)s, %(latitude_m149)s), (%(place_id_m150)s, %(longtude_m150)s, %(latitude_m150)s), (%(place_id_m151)s, %(longtude_m151)s, %(latitude_m151)s), (%(place_id_m152)s, %(longtude_m152)s, %(latitude_m152)s), (%(place_id_m153)s, %(longtude_m153)s, %(latitude_m153)s), (%(place_id_m154)s, %(longtude_m154)s, %(latitude_m154)s), (%(place_id_m155)s, %(longtude_m155)s, %(latitude_m155)s), (%(place_id_m156)s, %(longtude_m156)s, %(latitude_m156)s), (%(place_id_m157)s, %(longtude_m157)s, %(latitude_m157)s), (%(place_id_m158)s, %(longtude_m158)s, %(latitude_m158)s), (%(place_id_m159)s, %(longtude_m159)s, %(latitude_m159)s), (%(place_id_m160)s, %(longtude_m160)s, %(latitude_m160)s), (%(place_id_m161)s, %(longtude_m161)s, %(latitude_m161)s), (%(place_id_m162)s, %(longtude_m162)s, %(latitude_m162)s), (%(place_id_m163)s, %(longtude_m163)s, %(latitude_m163)s), (%(place_id_m164)s, %(longtude_m164)s, %(latitude_m164)s), (%(place_id_m165)s, %(longtude_m165)s, %(latitude_m165)s), (%(place_id_m166)s, %(longtude_m166)s, %(latitude_m166)s), (%(place_id_m167)s, %(longtude_m167)s, %(latitude_m167)s), (%(place_id_m168)s, %(longtude_m168)s, %(latitude_m168)s), (%(place_id_m169)s, %(longtude_m169)s, %(latitude_m169)s), (%(place_id_m170)s, %(longtude_m170)s, %(latitude_m170)s), (%(place_id_m171)s, %(longtude_m171)s, %(latitude_m171)s), (%(place_id_m172)s, %(longtude_m172)s, %(latitude_m172)s), (%(place_id_m173)s, %(longtude_m173)s, %(latitude_m173)s), (%(place_id_m174)s, %(longtude_m174)s, %(latitude_m174)s), (%(place_id_m175)s, %(longtude_m175)s, %(latitude_m175)s), (%(place_id_m176)s, %(longtude_m176)s, %(latitude_m176)s), (%(place_id_m177)s, %(longtude_m177)s, %(latitude_m177)s), (%(place_id_m178)s, %(longtude_m178)s, %(latitude_m178)s), (%(place_id_m179)s, %(longtude_m179)s, %(latitude_m179)s), (%(place_id_m180)s, %(longtude_m180)s, %(latitude_m180)s), (%(place_id_m181)s, %(longtude_m181)s, %(latitude_m181)s), (%(place_id_m182)s, %(longtude_m182)s, %(latitude_m182)s), (%(place_id_m183)s, %(longtude_m183)s, %(latitude_m183)s), (%(place_id_m184)s, %(longtude_m184)s, %(latitude_m184)s), (%(place_id_m185)s, %(longtude_m185)s, %(latitude_m185)s), (%(place_id_m186)s, %(longtude_m186)s, %(latitude_m186)s), (%(place_id_m187)s, %(longtude_m187)s, %(latitude_m187)s), (%(place_id_m188)s, %(longtude_m188)s, %(latitude_m188)s), (%(place_id_m189)s, %(longtude_m189)s, %(latitude_m189)s), (%(place_id_m190)s, %(longtude_m190)s, %(latitude_m190)s), (%(place_id_m191)s, %(longtude_m191)s, %(latitude_m191)s), (%(place_id_m192)s, %(longtude_m192)s, %(latitude_m192)s), (%(place_id_m193)s, %(longtude_m193)s, %(latitude_m193)s), (%(place_id_m194)s, %(longtude_m194)s, %(latitude_m194)s), (%(place_id_m195)s, %(longtude_m195)s, %(latitude_m195)s), (%(place_id_m196)s, %(longtude_m196)s, %(latitude_m196)s), (%(place_id_m197)s, %(longtude_m197)s, %(latitude_m197)s), (%(place_id_m198)s, %(longtude_m198)s, %(latitude_m198)s)]\n[parameters: {'place_id_m0': 1, 'longtude_m0': 65.522371, 'latitude_m0': 57.161884, 'place_id_m1': 2, 'longtude_m1': 65.533429, 'latitude_m1': 57.154605, 'place_id_m2': 3, 'longtude_m2': 65.536708, 'latitude_m2': 57.153741, 'place_id_m3': 4, 'longtude_m3': 65.51284, 'latitude_m3': 57.169863, 'place_id_m4': 5, 'longtude_m4': 65.541999, 'latitude_m4': 57.149357, 'place_id_m5': 6, 'longtude_m5': 65.532001, 'latitude_m5': 57.158857, 'place_id_m6': 7, 'longtude_m6': 65.560047, 'latitude_m6': 57.14442, 'place_id_m7': 8, 'longtude_m7': 65.537535, 'latitude_m7': 57.151159, 'place_id_m8': 9, 'longtude_m8': 65.548377, 'latitude_m8': 57.160561, 'place_id_m9': 10, 'longtude_m9': 65.719354, 'latitude_m9': 57.069568, 'place_id_m10': 11, 'longtude_m10': 65.519353, 'latitude_m10': 57.163104, 'place_id_m11': 12, 'longtude_m11': 65.528623, 'latitude_m11': 57.158872, 'place_id_m12': 13, 'longtude_m12': 65.538882, 'latitude_m12': 57.154088, 'place_id_m13': 14, 'longtude_m13': 65.530546, 'latitude_m13': 57.158979, 'place_id_m14': 15, 'longtude_m14': 65.47583, 'latitude_m14': 57.177929, 'place_id_m15': 16, 'longtude_m15': 65.571105, 'latitude_m15': 57.135053, 'place_id_m16': 17, 'longtude_m16': 65.551962, 'latitude_m16': 57.156963, 'place_id_m17': 18, 'longtude_m17': 65.577366, 'latitude_m17': 57.141573, 'place_id_m18': 19, 'longtude_m18': 65.526351, 'latitude_m18': 57.158018, 'place_id_m19': 20, 'longtude_m19': 65.522111, 'latitude_m19': 57.16571, 'place_id_m20': 21, 'longtude_m20': 65.527671, 'latitude_m20': 57.160244, 'place_id_m21': 22, 'longtude_m21': 65.535388, 'latitude_m21': 57.150661, 'place_id_m22': 23, 'longtude_m22': 65.525524, 'latitude_m22': 57.158276, 'place_id_m23': 24, 'longtude_m23': 65.550273, 'latitude_m23': 57.147072, 'place_id_m24': 25, 'longtude_m24': 65.630187, 'latitude_m24': 57.153922, 'place_id_m25': 26, 'longtude_m25': 65.566676, 'latitude_m25': 57.137779, 'place_id_m26': 27, 'longtude_m26': 65.547075, 'latitude_m26': 57.150207, 'place_id_m27': 28, 'longtude_m27': 65.559876, 'latitude_m27': 57.148849, 'place_id_m28': 29, 'longtude_m28': 65.551459, 'latitude_m28': 57.156895, 'place_id_m29': 30, 'longtude_m29': 65.514754, 'latitude_m29': 57.166388, 'place_id_m30': 31, 'longtude_m30': 65.530465, 'latitude_m30': 57.157491, 'place_id_m31': 32, 'longtude_m31': 65.511978, 'latitude_m31': 57.160126, 'place_id_m32': 33, 'longtude_m32': 65.554288, 'latitude_m32': 57.145216, 'place_id_m33': 34, 'longtude_m33': 65.611852, 'latitude_m33': 57.108159, 'place_id_m34': 35, 'longtude_m34': 65.566676, 'latitude_m34': 57.137779, 'place_id_m35': 36, 'longtude_m35': 65.582172, 'latitude_m35': 57.112412, 'place_id_m36': 37, 'longtude_m36': 65.59129, 'latitude_m36': 57.111092, 'place_id_m37': 38, 'longtude_m37': 65.549177, 'latitude_m37': 57.181992, 'place_id_m38': 39, 'longtude_m38': 65.547264, 'latitude_m38': 57.149103, 'place_id_m39': 40, 'longtude_m39': 65.550354, 'latitude_m39': 57.149665, 'place_id_m40': 41, 'longtude_m40': 65.56912, 'latitude_m40': 57.120123, 'place_id_m41': 42, 'longtude_m41': 65.572749, 'latitude_m41': 57.135293, 'place_id_m42': 43, 'longtude_m42': 65.51284, 'latitude_m42': 57.169863, 'place_id_m43': 44, 'longtude_m43': 65.529154, 'latitude_m43': 57.156251, 'place_id_m44': 45, 'longtude_m44': 65.719354, 'latitude_m44': 57.069568, 'place_id_m45': 46, 'longtude_m45': 65.527671, 'latitude_m45': 57.160244, 'place_id_m46': 47, 'longtude_m46': 65.544865, 'latitude_m46': 57.1505, 'place_id_m47': 48, 'longtude_m47': 65.541424, 'latitude_m47': 57.148678, 'place_id_m48': 49, 'longtude_m48': 65.551459, 'latitude_m48': 57.156895, 'place_id_m49': 50, 'longtude_m49': 65.550066, 'latitude_m49': 57.188104, 'place_id_m50': 51, 'longtude_m50': 65.576171, 'latitude_m50': 57.137202, 'place_id_m51': 52, 'longtude_m51': 65.656481, 'latitude_m51': 57.175543, 'place_id_m52': 53, 'longtude_m52': 65.312713, 'latitude_m52': 57.201237, 'place_id_m53': 54, 'longtude_m53': 65.576504, 'latitude_m53': 57.121873, 'place_id_m54': 55, 'longtude_m54': 65.55596800000001, 'latitude_m54': 57.12799, 'place_id_m55': 56, 'longtude_m55': 65.527671, 'latitude_m55': 57.160244, 'place_id_m56': 57, 'longtude_m56': 65.560082, 'latitude_m56': 57.13603, 'place_id_m57': 58, 'longtude_m57': 65.35639, 'latitude_m57': 57.159541, 'place_id_m58': 59, 'longtude_m58': 65.503309, 'latitude_m58': 57.163011, 'place_id_m59': 60, 'longtude_m59': 65.5723, 'latitude_m59': 57.136015, 'place_id_m60': 61, 'longtude_m60': 65.577249, 'latitude_m60': 57.118657, 'place_id_m61': 62, 'longtude_m61': 65.592018, 'latitude_m61': 57.126099, 'place_id_m62': 63, 'longtude_m62': 65.540311, 'latitude_m62': 57.15132, 'place_id_m63': 64, 'longtude_m63': 65.56019, 'latitude_m63': 57.141075, 'place_id_m64': 65, 'longtude_m64': 65.576809, 'latitude_m64': 57.179758, 'place_id_m65': 66, 'longtude_m65': 65.486537, 'latitude_m65': 57.149298, 'place_id_m66': 67, 'longtude_m66': 65.530977, 'latitude_m66': 57.159526, 'place_id_m67': 68, 'longtude_m67': 65.600327, 'latitude_m67': 57.111977, 'place_id_m68': 69, 'longtude_m68': 65.650651, 'latitude_m68': 57.154356, 'place_id_m69': 70, 'longtude_m69': 65.640212, 'latitude_m69': 57.169834, 'place_id_m70': 71, 'longtude_m70': 65.588397, 'latitude_m70': 57.111522, 'place_id_m71': 72, 'longtude_m71': 65.535199, 'latitude_m71': 57.159697, 'place_id_m72': 73, 'longtude_m72': 65.561403, 'latitude_m72': 57.133695, 'place_id_m73': 74, 'longtude_m73': 65.577815, 'latitude_m73': 57.151642, 'place_id_m74': 75, 'longtude_m74': 65.582226, 'latitude_m74': 57.12026, 'place_id_m75': 76, 'longtude_m75': 65.549177, 'latitude_m75': 57.181992, 'place_id_m76': 77, 'longtude_m76': 65.443014, 'latitude_m76': 57.202695, 'place_id_m77': 78, 'longtude_m77': 65.601037, 'latitude_m77': 57.105045, 'place_id_m78': 79, 'longtude_m78': 65.54703, 'latitude_m78': 57.213585, 'place_id_m79': 80, 'longtude_m79': 65.548342, 'latitude_m79': 57.153053, 'place_id_m80': 81, 'longtude_m80': 65.557495, 'latitude_m80': 57.146667, 'place_id_m81': 82, 'longtude_m81': 65.63104, 'latitude_m81': 57.192099, 'place_id_m82': 83, 'longtude_m82': 65.360558, 'latitude_m82': 57.201222, 'place_id_m83': 84, 'longtude_m83': 65.513729, 'latitude_m83': 57.157066, 'place_id_m84': 85, 'longtude_m84': 65.577043, 'latitude_m84': 57.155948, 'place_id_m85': 86, 'longtude_m85': 65.58422, 'latitude_m85': 57.114269, 'place_id_m86': 87, 'longtude_m86': 65.61558, 'latitude_m86': 57.180139, 'place_id_m87': 88, 'longtude_m87': 65.552222, 'latitude_m87': 57.157964, 'place_id_m88': 89, 'longtude_m88': 65.525057, 'latitude_m88': 57.145241, 'place_id_m89': 90, 'longtude_m89': 65.519083, 'latitude_m89': 57.127433, 'place_id_m90': 91, 'longtude_m90': 65.551863, 'latitude_m90': 57.155587, 'place_id_m91': 92, 'longtude_m91': 65.541424, 'latitude_m91': 57.148678, 'place_id_m92': 93, 'longtude_m92': 65.570368, 'latitude_m92': 57.102973, 'place_id_m93': 94, 'longtude_m93': 65.569335, 'latitude_m93': 57.151222, 'place_id_m94': 95, 'longtude_m94': 65.523602, 'latitude_m94': 57.160078, 'place_id_m95': 96, 'longtude_m95': 65.587643, 'latitude_m95': 57.107587, 'place_id_m96': 97, 'longtude_m96': 65.597345, 'latitude_m96': 57.126299, 'place_id_m97': 98, 'longtude_m97': 65.566496, 'latitude_m97': 57.154132, 'place_id_m98': 99, 'longtude_m98': 65.452824, 'latitude_m98': 57.248642, 'place_id_m99': 100, 'longtude_m99': 65.656481, 'latitude_m99': 57.175543, 'place_id_m100': 101, 'longtude_m100': 65.608124, 'latitude_m100': 57.12283, 'place_id_m101': 102, 'longtude_m101': 65.63935, 'latitude_m101': 57.224248, 'place_id_m102': 103, 'longtude_m102': 65.581094, 'latitude_m102': 57.189294, 'place_id_m103': 104, 'longtude_m103': 65.535963, 'latitude_m103': 57.172069, 'place_id_m104': 105, 'longtude_m104': 65.477734, 'latitude_m104': 57.159702, 'place_id_m105': 106, 'longtude_m105': 65.641982, 'latitude_m105': 57.170073, 'place_id_m106': 107, 'longtude_m106': 65.589448, 'latitude_m106': 57.10703, 'place_id_m107': 108, 'longtude_m107': 65.656481, 'latitude_m107': 57.175543, 'place_id_m108': 109, 'longtude_m108': 65.540221, 'latitude_m108': 57.171644, 'place_id_m109': 110, 'longtude_m109': 65.533717, 'latitude_m109': 57.155953, 'place_id_m110': 111, 'longtude_m110': 65.568257, 'latitude_m110': 57.159101, 'place_id_m111': 112, 'longtude_m111': 65.530519, 'latitude_m111': 57.128273, 'place_id_m112': 113, 'longtude_m112': 65.489789, 'latitude_m112': 57.158979, 'place_id_m113': 114, 'longtude_m113': 65.541227, 'latitude_m113': 57.152985, 'place_id_m114': 115, 'longtude_m114': 65.532082, 'latitude_m114': 57.15503, 'place_id_m115': 116, 'longtude_m115': 65.541424, 'latitude_m115': 57.148678, 'place_id_m116': 117, 'longtude_m116': 65.528623, 'latitude_m116': 57.158872, 'place_id_m117': 118, 'longtude_m117': 65.509489, 'latitude_m117': 57.249149, 'place_id_m118': 119, 'longtude_m118': 65.563891, 'latitude_m118': 57.120138, 'place_id_m119': 120, 'longtude_m119': 65.546239, 'latitude_m119': 57.160195, 'place_id_m120': 121, 'longtude_m120': 65.549581, 'latitude_m120': 57.117362, 'place_id_m121': 122, 'longtude_m121': 65.642638, 'latitude_m121': 57.167223, 'place_id_m122': 123, 'longtude_m122': 65.559876, 'latitude_m122': 57.148849, 'place_id_m123': 124, 'longtude_m123': 65.524617, 'latitude_m123': 57.15234, 'place_id_m124': 125, 'longtude_m124': 65.543814, 'latitude_m124': 57.160341, 'place_id_m125': 126, 'longtude_m125': 65.577249, 'latitude_m125': 57.118657, 'place_id_m126': 127, 'longtude_m126': 65.572901, 'latitude_m126': 57.149396, 'place_id_m127': 128, 'longtude_m127': 65.520997, 'latitude_m127': 57.160576, 'place_id_m128': 129, 'longtude_m128': 65.587113, 'latitude_m128': 57.104473, 'place_id_m129': 130, 'longtude_m129': 65.520997, 'latitude_m129': 57.160576, 'place_id_m130': 131, 'longtude_m130': 65.544398, 'latitude_m130': 57.159507, 'place_id_m131': 132, 'longtude_m131': 65.540221, 'latitude_m131': 57.171644, 'place_id_m132': 133, 'longtude_m132': 65.656481, 'latitude_m132': 57.175543, 'place_id_m133': 134, 'longtude_m133': 65.543257, 'latitude_m133': 57.158589, 'place_id_m134': 135, 'longtude_m134': 65.565697, 'latitude_m134': 57.118955, 'place_id_m135': 136, 'longtude_m135': 65.545431, 'latitude_m135': 57.115412, 'place_id_m136': 137, 'longtude_m136': 65.562813, 'latitude_m136': 57.123451, 'place_id_m137': 138, 'longtude_m137': 65.587221, 'latitude_m137': 57.112421, 'place_id_m138': 139, 'longtude_m138': 65.574779, 'latitude_m138': 57.118545, 'place_id_m139': 140, 'longtude_m139': 65.493805, 'latitude_m139': 57.135043, 'place_id_m140': 141, 'longtude_m140': 65.577249, 'latitude_m140': 57.118657, 'place_id_m141': 142, 'longtude_m141': 65.919939, 'latitude_m141': 57.186173, 'place_id_m142': 143, 'longtude_m142': 65.545027, 'latitude_m142': 57.130105, 'place_id_m143': 144, 'longtude_m143': 65.536178, 'latitude_m143': 57.157813, 'place_id_m144': 145, 'longtude_m144': 65.561044, 'latitude_m144': 57.159638, 'place_id_m145': 146, 'longtude_m145': 65.540221, 'latitude_m145': 57.171644, 'place_id_m146': 147, 'longtude_m146': 65.503138, 'latitude_m146': 57.150929, 'place_id_m147': 148, 'longtude_m147': 65.537427, 'latitude_m147': 57.148693, 'place_id_m148': 149, 'longtude_m148': 65.493805, 'latitude_m148': 57.135043, 'place_id_m149': 150, 'longtude_m149': 65.430024, 'latitude_m149': 57.166052, 'place_id_m150': 151, 'longtude_m150': 65.522452, 'latitude_m150': 57.146027, 'place_id_m151': 152, 'longtude_m151': 65.590302, 'latitude_m151': 57.195756, 'place_id_m152': 153, 'longtude_m152': 65.509489, 'latitude_m152': 57.249149, 'place_id_m153': 154, 'longtude_m153': 65.577249, 'latitude_m153': 57.118657, 'place_id_m154': 155, 'longtude_m154': 65.53281, 'latitude_m154': 57.157822, 'place_id_m155': 156, 'longtude_m155': 65.526351, 'latitude_m155': 57.160541, 'place_id_m156': 157, 'longtude_m156': 65.561403, 'latitude_m156': 57.133695, 'place_id_m157': 158, 'longtude_m157': 65.575623, 'latitude_m157': 57.158491, 'place_id_m158': 159, 'longtude_m158': 65.530366, 'latitude_m158': 57.1515, 'place_id_m159': 160, 'longtude_m159': 65.577815, 'latitude_m159': 57.134472, 'place_id_m160': 161, 'longtude_m160': 65.602636, 'latitude_m160': 57.184875, 'place_id_m161': 162, 'longtude_m161': 65.719354, 'latitude_m161': 57.069568, 'place_id_m162': 163, 'longtude_m162': 65.574069, 'latitude_m162': 57.112588, 'place_id_m163': 164, 'longtude_m163': 65.553112, 'latitude_m163': 57.158374, 'place_id_m164': 165, 'longtude_m164': 65.538173, 'latitude_m164': 57.158618, 'place_id_m165': 166, 'longtude_m165': 65.526252, 'latitude_m165': 57.157329, 'place_id_m166': 167, 'longtude_m166': 65.575039, 'latitude_m166': 57.106052, 'place_id_m167': 168, 'longtude_m167': 65.560621, 'latitude_m167': 57.131746, 'place_id_m168': 169, 'longtude_m168': 65.550237, 'latitude_m168': 57.137871, 'place_id_m169': 170, 'longtude_m169': 65.550192, 'latitude_m169': 57.158272, 'place_id_m170': 171, 'longtude_m170': 65.562238, 'latitude_m170': 57.109758, 'place_id_m171': 172, 'longtude_m171': 65.563209, 'latitude_m171': 57.135004, 'place_id_m172': 173, 'longtude_m172': 65.562885, 'latitude_m172': 57.149821, 'place_id_m173': 174, 'longtude_m173': 65.562742, 'latitude_m173': 57.108457, 'place_id_m174': 175, 'longtude_m174': 65.559364, 'latitude_m174': 57.187719, 'place_id_m175': 176, 'longtude_m175': 65.551108, 'latitude_m175': 57.137886, 'place_id_m176': 177, 'longtude_m176': 65.444676, 'latitude_m176': 57.154464, 'place_id_m177': 178, 'longtude_m177': 65.504899, 'latitude_m177': 57.162318, 'place_id_m178': 179, 'longtude_m178': 65.46955, 'latitude_m178': 57.133617, 'place_id_m179': 180, 'longtude_m179': 65.57344, 'latitude_m179': 57.106678, 'place_id_m180': 181, 'longtude_m180': 65.602636, 'latitude_m180': 57.184875, 'place_id_m181': 182, 'longtude_m181': 65.523368, 'latitude_m181': 57.129778, 'place_id_m182': 183, 'longtude_m182': 65.584068, 'latitude_m182': 57.107783, 'place_id_m183': 184, 'longtude_m183': 65.575039, 'latitude_m183': 57.106052, 'place_id_m184': 185, 'longtude_m184': 65.566856, 'latitude_m184': 57.121276, 'place_id_m185': 186, 'longtude_m185': 65.612859, 'latitude_m185': 57.105275, 'place_id_m186': 187, 'longtude_m186': 65.534157, 'latitude_m186': 57.148512, 'place_id_m187': 188, 'longtude_m187': 65.56125, 'latitude_m187': 57.122361, 'place_id_m188': 189, 'longtude_m188': 65.533052, 'latitude_m188': 57.160439, 'place_id_m189': 190, 'longtude_m189': 65.587652, 'latitude_m189': 57.103559, 'place_id_m190': 191, 'longtude_m190': 65.561044, 'latitude_m190': 57.159638, 'place_id_m191': 192, 'longtude_m191': 65.540562, 'latitude_m191': 57.158218, 'place_id_m192': 193, 'longtude_m192': 65.571716, 'latitude_m192': 57.105324, 'place_id_m193': 194, 'longtude_m193': 65.550578, 'latitude_m193': 57.174567, 'place_id_m194': 195, 'longtude_m194': 65.509489, 'latitude_m194': 57.249149, 'place_id_m195': 196, 'longtude_m195': 65.550336, 'latitude_m195': 57.121452, 'place_id_m196': 197, 'longtude_m196': 65.567727, 'latitude_m196': 57.130838, 'place_id_m197': 198, 'longtude_m197': 65.536619, 'latitude_m197': 57.155435, 'place_id_m198': 199, 'longtude_m198': 65.535882, 'latitude_m198': 57.151159}]\n(Background on this error at: https://sqlalche.me/e/14/f405)",
     "output_type": "error",
     "traceback": [
      "\u001b[1;31m---------------------------------------------------------------------------\u001b[0m",
      "\u001b[1;31mInsufficientPrivilege\u001b[0m                     Traceback (most recent call last)",
      "File \u001b[1;32m~\\AppData\\Local\\Programs\\Python\\Python310\\lib\\site-packages\\sqlalchemy\\engine\\base.py:1900\u001b[0m, in \u001b[0;36mConnection._execute_context\u001b[1;34m(self, dialect, constructor, statement, parameters, execution_options, *args, **kw)\u001b[0m\n\u001b[0;32m   1899\u001b[0m     \u001b[38;5;28;01mif\u001b[39;00m \u001b[38;5;129;01mnot\u001b[39;00m evt_handled:\n\u001b[1;32m-> 1900\u001b[0m         \u001b[38;5;28;43mself\u001b[39;49m\u001b[38;5;241;43m.\u001b[39;49m\u001b[43mdialect\u001b[49m\u001b[38;5;241;43m.\u001b[39;49m\u001b[43mdo_execute\u001b[49m\u001b[43m(\u001b[49m\n\u001b[0;32m   1901\u001b[0m \u001b[43m            \u001b[49m\u001b[43mcursor\u001b[49m\u001b[43m,\u001b[49m\u001b[43m \u001b[49m\u001b[43mstatement\u001b[49m\u001b[43m,\u001b[49m\u001b[43m \u001b[49m\u001b[43mparameters\u001b[49m\u001b[43m,\u001b[49m\u001b[43m \u001b[49m\u001b[43mcontext\u001b[49m\n\u001b[0;32m   1902\u001b[0m \u001b[43m        \u001b[49m\u001b[43m)\u001b[49m\n\u001b[0;32m   1904\u001b[0m \u001b[38;5;28;01mif\u001b[39;00m \u001b[38;5;28mself\u001b[39m\u001b[38;5;241m.\u001b[39m_has_events \u001b[38;5;129;01mor\u001b[39;00m \u001b[38;5;28mself\u001b[39m\u001b[38;5;241m.\u001b[39mengine\u001b[38;5;241m.\u001b[39m_has_events:\n",
      "File \u001b[1;32m~\\AppData\\Local\\Programs\\Python\\Python310\\lib\\site-packages\\sqlalchemy\\engine\\default.py:736\u001b[0m, in \u001b[0;36mDefaultDialect.do_execute\u001b[1;34m(self, cursor, statement, parameters, context)\u001b[0m\n\u001b[0;32m    735\u001b[0m \u001b[38;5;28;01mdef\u001b[39;00m \u001b[38;5;21mdo_execute\u001b[39m(\u001b[38;5;28mself\u001b[39m, cursor, statement, parameters, context\u001b[38;5;241m=\u001b[39m\u001b[38;5;28;01mNone\u001b[39;00m):\n\u001b[1;32m--> 736\u001b[0m     \u001b[43mcursor\u001b[49m\u001b[38;5;241;43m.\u001b[39;49m\u001b[43mexecute\u001b[49m\u001b[43m(\u001b[49m\u001b[43mstatement\u001b[49m\u001b[43m,\u001b[49m\u001b[43m \u001b[49m\u001b[43mparameters\u001b[49m\u001b[43m)\u001b[49m\n",
      "\u001b[1;31mInsufficientPrivilege\u001b[0m: permission denied for relation coordinates\n",
      "\nThe above exception was the direct cause of the following exception:\n",
      "\u001b[1;31mProgrammingError\u001b[0m                          Traceback (most recent call last)",
      "Cell \u001b[1;32mIn [42], line 1\u001b[0m\n\u001b[1;32m----> 1\u001b[0m coordinates\u001b[38;5;241m.\u001b[39mto_sql(\n\u001b[0;32m      2\u001b[0m     name\u001b[38;5;241m=\u001b[39m\u001b[38;5;124m\"\u001b[39m\u001b[38;5;124mcoordinates\u001b[39m\u001b[38;5;124m\"\u001b[39m, \n\u001b[0;32m      3\u001b[0m     con\u001b[38;5;241m=\u001b[39mengine, \n\u001b[0;32m      4\u001b[0m     schema\u001b[38;5;241m=\u001b[39m\u001b[38;5;124m\"\u001b[39m\u001b[38;5;124mdbo\u001b[39m\u001b[38;5;124m\"\u001b[39m,\n\u001b[0;32m      5\u001b[0m     index\u001b[38;5;241m=\u001b[39m\u001b[38;5;28;01mFalse\u001b[39;00m,\n\u001b[0;32m      6\u001b[0m     method\u001b[38;5;241m=\u001b[39m\u001b[38;5;124m\"\u001b[39m\u001b[38;5;124mmulti\u001b[39m\u001b[38;5;124m\"\u001b[39m,\n\u001b[0;32m      7\u001b[0m     if_exists\u001b[38;5;241m=\u001b[39m\u001b[38;5;124m\"\u001b[39m\u001b[38;5;124mappend\u001b[39m\u001b[38;5;124m\"\u001b[39m \u001b[38;5;66;03m# append - добавляет строки в существующую таблицу /\u001b[39;00m\n\u001b[0;32m      8\u001b[0m )\n",
      "File \u001b[1;32m~\\AppData\\Local\\Programs\\Python\\Python310\\lib\\site-packages\\pandas\\core\\generic.py:2986\u001b[0m, in \u001b[0;36mNDFrame.to_sql\u001b[1;34m(self, name, con, schema, if_exists, index, index_label, chunksize, dtype, method)\u001b[0m\n\u001b[0;32m   2829\u001b[0m \u001b[38;5;124;03m\"\"\"\u001b[39;00m\n\u001b[0;32m   2830\u001b[0m \u001b[38;5;124;03mWrite records stored in a DataFrame to a SQL database.\u001b[39;00m\n\u001b[0;32m   2831\u001b[0m \n\u001b[1;32m   (...)\u001b[0m\n\u001b[0;32m   2982\u001b[0m \u001b[38;5;124;03m[(1,), (None,), (2,)]\u001b[39;00m\n\u001b[0;32m   2983\u001b[0m \u001b[38;5;124;03m\"\"\"\u001b[39;00m  \u001b[38;5;66;03m# noqa:E501\u001b[39;00m\n\u001b[0;32m   2984\u001b[0m \u001b[38;5;28;01mfrom\u001b[39;00m \u001b[38;5;21;01mpandas\u001b[39;00m\u001b[38;5;21;01m.\u001b[39;00m\u001b[38;5;21;01mio\u001b[39;00m \u001b[38;5;28;01mimport\u001b[39;00m sql\n\u001b[1;32m-> 2986\u001b[0m \u001b[38;5;28;01mreturn\u001b[39;00m \u001b[43msql\u001b[49m\u001b[38;5;241;43m.\u001b[39;49m\u001b[43mto_sql\u001b[49m\u001b[43m(\u001b[49m\n\u001b[0;32m   2987\u001b[0m \u001b[43m    \u001b[49m\u001b[38;5;28;43mself\u001b[39;49m\u001b[43m,\u001b[49m\n\u001b[0;32m   2988\u001b[0m \u001b[43m    \u001b[49m\u001b[43mname\u001b[49m\u001b[43m,\u001b[49m\n\u001b[0;32m   2989\u001b[0m \u001b[43m    \u001b[49m\u001b[43mcon\u001b[49m\u001b[43m,\u001b[49m\n\u001b[0;32m   2990\u001b[0m \u001b[43m    \u001b[49m\u001b[43mschema\u001b[49m\u001b[38;5;241;43m=\u001b[39;49m\u001b[43mschema\u001b[49m\u001b[43m,\u001b[49m\n\u001b[0;32m   2991\u001b[0m \u001b[43m    \u001b[49m\u001b[43mif_exists\u001b[49m\u001b[38;5;241;43m=\u001b[39;49m\u001b[43mif_exists\u001b[49m\u001b[43m,\u001b[49m\n\u001b[0;32m   2992\u001b[0m \u001b[43m    \u001b[49m\u001b[43mindex\u001b[49m\u001b[38;5;241;43m=\u001b[39;49m\u001b[43mindex\u001b[49m\u001b[43m,\u001b[49m\n\u001b[0;32m   2993\u001b[0m \u001b[43m    \u001b[49m\u001b[43mindex_label\u001b[49m\u001b[38;5;241;43m=\u001b[39;49m\u001b[43mindex_label\u001b[49m\u001b[43m,\u001b[49m\n\u001b[0;32m   2994\u001b[0m \u001b[43m    \u001b[49m\u001b[43mchunksize\u001b[49m\u001b[38;5;241;43m=\u001b[39;49m\u001b[43mchunksize\u001b[49m\u001b[43m,\u001b[49m\n\u001b[0;32m   2995\u001b[0m \u001b[43m    \u001b[49m\u001b[43mdtype\u001b[49m\u001b[38;5;241;43m=\u001b[39;49m\u001b[43mdtype\u001b[49m\u001b[43m,\u001b[49m\n\u001b[0;32m   2996\u001b[0m \u001b[43m    \u001b[49m\u001b[43mmethod\u001b[49m\u001b[38;5;241;43m=\u001b[39;49m\u001b[43mmethod\u001b[49m\u001b[43m,\u001b[49m\n\u001b[0;32m   2997\u001b[0m \u001b[43m\u001b[49m\u001b[43m)\u001b[49m\n",
      "File \u001b[1;32m~\\AppData\\Local\\Programs\\Python\\Python310\\lib\\site-packages\\pandas\\io\\sql.py:696\u001b[0m, in \u001b[0;36mto_sql\u001b[1;34m(frame, name, con, schema, if_exists, index, index_label, chunksize, dtype, method, engine, **engine_kwargs)\u001b[0m\n\u001b[0;32m    691\u001b[0m \u001b[38;5;28;01melif\u001b[39;00m \u001b[38;5;129;01mnot\u001b[39;00m \u001b[38;5;28misinstance\u001b[39m(frame, DataFrame):\n\u001b[0;32m    692\u001b[0m     \u001b[38;5;28;01mraise\u001b[39;00m \u001b[38;5;167;01mNotImplementedError\u001b[39;00m(\n\u001b[0;32m    693\u001b[0m         \u001b[38;5;124m\"\u001b[39m\u001b[38;5;124m'\u001b[39m\u001b[38;5;124mframe\u001b[39m\u001b[38;5;124m'\u001b[39m\u001b[38;5;124m argument should be either a Series or a DataFrame\u001b[39m\u001b[38;5;124m\"\u001b[39m\n\u001b[0;32m    694\u001b[0m     )\n\u001b[1;32m--> 696\u001b[0m \u001b[38;5;28;01mreturn\u001b[39;00m pandas_sql\u001b[38;5;241m.\u001b[39mto_sql(\n\u001b[0;32m    697\u001b[0m     frame,\n\u001b[0;32m    698\u001b[0m     name,\n\u001b[0;32m    699\u001b[0m     if_exists\u001b[38;5;241m=\u001b[39mif_exists,\n\u001b[0;32m    700\u001b[0m     index\u001b[38;5;241m=\u001b[39mindex,\n\u001b[0;32m    701\u001b[0m     index_label\u001b[38;5;241m=\u001b[39mindex_label,\n\u001b[0;32m    702\u001b[0m     schema\u001b[38;5;241m=\u001b[39mschema,\n\u001b[0;32m    703\u001b[0m     chunksize\u001b[38;5;241m=\u001b[39mchunksize,\n\u001b[0;32m    704\u001b[0m     dtype\u001b[38;5;241m=\u001b[39mdtype,\n\u001b[0;32m    705\u001b[0m     method\u001b[38;5;241m=\u001b[39mmethod,\n\u001b[0;32m    706\u001b[0m     engine\u001b[38;5;241m=\u001b[39mengine,\n\u001b[0;32m    707\u001b[0m     \u001b[38;5;241m*\u001b[39m\u001b[38;5;241m*\u001b[39mengine_kwargs,\n\u001b[0;32m    708\u001b[0m )\n",
      "File \u001b[1;32m~\\AppData\\Local\\Programs\\Python\\Python310\\lib\\site-packages\\pandas\\io\\sql.py:1739\u001b[0m, in \u001b[0;36mSQLDatabase.to_sql\u001b[1;34m(self, frame, name, if_exists, index, index_label, schema, chunksize, dtype, method, engine, **engine_kwargs)\u001b[0m\n\u001b[0;32m   1727\u001b[0m sql_engine \u001b[38;5;241m=\u001b[39m get_engine(engine)\n\u001b[0;32m   1729\u001b[0m table \u001b[38;5;241m=\u001b[39m \u001b[38;5;28mself\u001b[39m\u001b[38;5;241m.\u001b[39mprep_table(\n\u001b[0;32m   1730\u001b[0m     frame\u001b[38;5;241m=\u001b[39mframe,\n\u001b[0;32m   1731\u001b[0m     name\u001b[38;5;241m=\u001b[39mname,\n\u001b[1;32m   (...)\u001b[0m\n\u001b[0;32m   1736\u001b[0m     dtype\u001b[38;5;241m=\u001b[39mdtype,\n\u001b[0;32m   1737\u001b[0m )\n\u001b[1;32m-> 1739\u001b[0m total_inserted \u001b[38;5;241m=\u001b[39m sql_engine\u001b[38;5;241m.\u001b[39minsert_records(\n\u001b[0;32m   1740\u001b[0m     table\u001b[38;5;241m=\u001b[39mtable,\n\u001b[0;32m   1741\u001b[0m     con\u001b[38;5;241m=\u001b[39m\u001b[38;5;28mself\u001b[39m\u001b[38;5;241m.\u001b[39mconnectable,\n\u001b[0;32m   1742\u001b[0m     frame\u001b[38;5;241m=\u001b[39mframe,\n\u001b[0;32m   1743\u001b[0m     name\u001b[38;5;241m=\u001b[39mname,\n\u001b[0;32m   1744\u001b[0m     index\u001b[38;5;241m=\u001b[39mindex,\n\u001b[0;32m   1745\u001b[0m     schema\u001b[38;5;241m=\u001b[39mschema,\n\u001b[0;32m   1746\u001b[0m     chunksize\u001b[38;5;241m=\u001b[39mchunksize,\n\u001b[0;32m   1747\u001b[0m     method\u001b[38;5;241m=\u001b[39mmethod,\n\u001b[0;32m   1748\u001b[0m     \u001b[38;5;241m*\u001b[39m\u001b[38;5;241m*\u001b[39mengine_kwargs,\n\u001b[0;32m   1749\u001b[0m )\n\u001b[0;32m   1751\u001b[0m \u001b[38;5;28mself\u001b[39m\u001b[38;5;241m.\u001b[39mcheck_case_sensitive(name\u001b[38;5;241m=\u001b[39mname, schema\u001b[38;5;241m=\u001b[39mschema)\n\u001b[0;32m   1752\u001b[0m \u001b[38;5;28;01mreturn\u001b[39;00m total_inserted\n",
      "File \u001b[1;32m~\\AppData\\Local\\Programs\\Python\\Python310\\lib\\site-packages\\pandas\\io\\sql.py:1336\u001b[0m, in \u001b[0;36mSQLAlchemyEngine.insert_records\u001b[1;34m(self, table, con, frame, name, index, schema, chunksize, method, **engine_kwargs)\u001b[0m\n\u001b[0;32m   1334\u001b[0m     \u001b[38;5;28;01mraise\u001b[39;00m \u001b[38;5;167;01mValueError\u001b[39;00m(\u001b[38;5;124m\"\u001b[39m\u001b[38;5;124minf cannot be used with MySQL\u001b[39m\u001b[38;5;124m\"\u001b[39m) \u001b[38;5;28;01mfrom\u001b[39;00m \u001b[38;5;21;01merr\u001b[39;00m\n\u001b[0;32m   1335\u001b[0m \u001b[38;5;28;01melse\u001b[39;00m:\n\u001b[1;32m-> 1336\u001b[0m     \u001b[38;5;28;01mraise\u001b[39;00m err\n",
      "File \u001b[1;32m~\\AppData\\Local\\Programs\\Python\\Python310\\lib\\site-packages\\pandas\\io\\sql.py:1326\u001b[0m, in \u001b[0;36mSQLAlchemyEngine.insert_records\u001b[1;34m(self, table, con, frame, name, index, schema, chunksize, method, **engine_kwargs)\u001b[0m\n\u001b[0;32m   1323\u001b[0m \u001b[38;5;28;01mfrom\u001b[39;00m \u001b[38;5;21;01msqlalchemy\u001b[39;00m \u001b[38;5;28;01mimport\u001b[39;00m exc\n\u001b[0;32m   1325\u001b[0m \u001b[38;5;28;01mtry\u001b[39;00m:\n\u001b[1;32m-> 1326\u001b[0m     \u001b[38;5;28;01mreturn\u001b[39;00m \u001b[43mtable\u001b[49m\u001b[38;5;241;43m.\u001b[39;49m\u001b[43minsert\u001b[49m\u001b[43m(\u001b[49m\u001b[43mchunksize\u001b[49m\u001b[38;5;241;43m=\u001b[39;49m\u001b[43mchunksize\u001b[49m\u001b[43m,\u001b[49m\u001b[43m \u001b[49m\u001b[43mmethod\u001b[49m\u001b[38;5;241;43m=\u001b[39;49m\u001b[43mmethod\u001b[49m\u001b[43m)\u001b[49m\n\u001b[0;32m   1327\u001b[0m \u001b[38;5;28;01mexcept\u001b[39;00m exc\u001b[38;5;241m.\u001b[39mSQLAlchemyError \u001b[38;5;28;01mas\u001b[39;00m err:\n\u001b[0;32m   1328\u001b[0m     \u001b[38;5;66;03m# GH34431\u001b[39;00m\n\u001b[0;32m   1329\u001b[0m     \u001b[38;5;66;03m# https://stackoverflow.com/a/67358288/6067848\u001b[39;00m\n\u001b[0;32m   1330\u001b[0m     msg \u001b[38;5;241m=\u001b[39m \u001b[38;5;124mr\u001b[39m\u001b[38;5;124m\"\"\"\u001b[39m\u001b[38;5;124m(\u001b[39m\u001b[38;5;124m\\\u001b[39m\u001b[38;5;124m(1054, \u001b[39m\u001b[38;5;124m\"\u001b[39m\u001b[38;5;124mUnknown column \u001b[39m\u001b[38;5;124m'\u001b[39m\u001b[38;5;124minf(e0)?\u001b[39m\u001b[38;5;124m'\u001b[39m\u001b[38;5;124m in \u001b[39m\u001b[38;5;124m'\u001b[39m\u001b[38;5;124mfield list\u001b[39m\u001b[38;5;124m'\u001b[39m\u001b[38;5;124m\"\u001b[39m\u001b[38;5;124m\\\u001b[39m\u001b[38;5;124m))(?#\u001b[39m\n\u001b[0;32m   1331\u001b[0m \u001b[38;5;124m    )|inf can not be used with MySQL\u001b[39m\u001b[38;5;124m\"\"\"\u001b[39m\n",
      "File \u001b[1;32m~\\AppData\\Local\\Programs\\Python\\Python310\\lib\\site-packages\\pandas\\io\\sql.py:947\u001b[0m, in \u001b[0;36mSQLTable.insert\u001b[1;34m(self, chunksize, method)\u001b[0m\n\u001b[0;32m    944\u001b[0m     \u001b[38;5;28;01mbreak\u001b[39;00m\n\u001b[0;32m    946\u001b[0m chunk_iter \u001b[38;5;241m=\u001b[39m \u001b[38;5;28mzip\u001b[39m(\u001b[38;5;241m*\u001b[39m(arr[start_i:end_i] \u001b[38;5;28;01mfor\u001b[39;00m arr \u001b[38;5;129;01min\u001b[39;00m data_list))\n\u001b[1;32m--> 947\u001b[0m num_inserted \u001b[38;5;241m=\u001b[39m \u001b[43mexec_insert\u001b[49m\u001b[43m(\u001b[49m\u001b[43mconn\u001b[49m\u001b[43m,\u001b[49m\u001b[43m \u001b[49m\u001b[43mkeys\u001b[49m\u001b[43m,\u001b[49m\u001b[43m \u001b[49m\u001b[43mchunk_iter\u001b[49m\u001b[43m)\u001b[49m\n\u001b[0;32m    948\u001b[0m \u001b[38;5;66;03m# GH 46891\u001b[39;00m\n\u001b[0;32m    949\u001b[0m \u001b[38;5;28;01mif\u001b[39;00m is_integer(num_inserted):\n",
      "File \u001b[1;32m~\\AppData\\Local\\Programs\\Python\\Python310\\lib\\site-packages\\pandas\\io\\sql.py:870\u001b[0m, in \u001b[0;36mSQLTable._execute_insert_multi\u001b[1;34m(self, conn, keys, data_iter)\u001b[0m\n\u001b[0;32m    868\u001b[0m data \u001b[38;5;241m=\u001b[39m [\u001b[38;5;28mdict\u001b[39m(\u001b[38;5;28mzip\u001b[39m(keys, row)) \u001b[38;5;28;01mfor\u001b[39;00m row \u001b[38;5;129;01min\u001b[39;00m data_iter]\n\u001b[0;32m    869\u001b[0m stmt \u001b[38;5;241m=\u001b[39m insert(\u001b[38;5;28mself\u001b[39m\u001b[38;5;241m.\u001b[39mtable)\u001b[38;5;241m.\u001b[39mvalues(data)\n\u001b[1;32m--> 870\u001b[0m result \u001b[38;5;241m=\u001b[39m \u001b[43mconn\u001b[49m\u001b[38;5;241;43m.\u001b[39;49m\u001b[43mexecute\u001b[49m\u001b[43m(\u001b[49m\u001b[43mstmt\u001b[49m\u001b[43m)\u001b[49m\n\u001b[0;32m    871\u001b[0m \u001b[38;5;28;01mreturn\u001b[39;00m result\u001b[38;5;241m.\u001b[39mrowcount\n",
      "File \u001b[1;32m~\\AppData\\Local\\Programs\\Python\\Python310\\lib\\site-packages\\sqlalchemy\\engine\\base.py:1380\u001b[0m, in \u001b[0;36mConnection.execute\u001b[1;34m(self, statement, *multiparams, **params)\u001b[0m\n\u001b[0;32m   1376\u001b[0m     util\u001b[38;5;241m.\u001b[39mraise_(\n\u001b[0;32m   1377\u001b[0m         exc\u001b[38;5;241m.\u001b[39mObjectNotExecutableError(statement), replace_context\u001b[38;5;241m=\u001b[39merr\n\u001b[0;32m   1378\u001b[0m     )\n\u001b[0;32m   1379\u001b[0m \u001b[38;5;28;01melse\u001b[39;00m:\n\u001b[1;32m-> 1380\u001b[0m     \u001b[38;5;28;01mreturn\u001b[39;00m \u001b[43mmeth\u001b[49m\u001b[43m(\u001b[49m\u001b[38;5;28;43mself\u001b[39;49m\u001b[43m,\u001b[49m\u001b[43m \u001b[49m\u001b[43mmultiparams\u001b[49m\u001b[43m,\u001b[49m\u001b[43m \u001b[49m\u001b[43mparams\u001b[49m\u001b[43m,\u001b[49m\u001b[43m \u001b[49m\u001b[43m_EMPTY_EXECUTION_OPTS\u001b[49m\u001b[43m)\u001b[49m\n",
      "File \u001b[1;32m~\\AppData\\Local\\Programs\\Python\\Python310\\lib\\site-packages\\sqlalchemy\\sql\\elements.py:334\u001b[0m, in \u001b[0;36mClauseElement._execute_on_connection\u001b[1;34m(self, connection, multiparams, params, execution_options, _force)\u001b[0m\n\u001b[0;32m    330\u001b[0m \u001b[38;5;28;01mdef\u001b[39;00m \u001b[38;5;21m_execute_on_connection\u001b[39m(\n\u001b[0;32m    331\u001b[0m     \u001b[38;5;28mself\u001b[39m, connection, multiparams, params, execution_options, _force\u001b[38;5;241m=\u001b[39m\u001b[38;5;28;01mFalse\u001b[39;00m\n\u001b[0;32m    332\u001b[0m ):\n\u001b[0;32m    333\u001b[0m     \u001b[38;5;28;01mif\u001b[39;00m _force \u001b[38;5;129;01mor\u001b[39;00m \u001b[38;5;28mself\u001b[39m\u001b[38;5;241m.\u001b[39msupports_execution:\n\u001b[1;32m--> 334\u001b[0m         \u001b[38;5;28;01mreturn\u001b[39;00m \u001b[43mconnection\u001b[49m\u001b[38;5;241;43m.\u001b[39;49m\u001b[43m_execute_clauseelement\u001b[49m\u001b[43m(\u001b[49m\n\u001b[0;32m    335\u001b[0m \u001b[43m            \u001b[49m\u001b[38;5;28;43mself\u001b[39;49m\u001b[43m,\u001b[49m\u001b[43m \u001b[49m\u001b[43mmultiparams\u001b[49m\u001b[43m,\u001b[49m\u001b[43m \u001b[49m\u001b[43mparams\u001b[49m\u001b[43m,\u001b[49m\u001b[43m \u001b[49m\u001b[43mexecution_options\u001b[49m\n\u001b[0;32m    336\u001b[0m \u001b[43m        \u001b[49m\u001b[43m)\u001b[49m\n\u001b[0;32m    337\u001b[0m     \u001b[38;5;28;01melse\u001b[39;00m:\n\u001b[0;32m    338\u001b[0m         \u001b[38;5;28;01mraise\u001b[39;00m exc\u001b[38;5;241m.\u001b[39mObjectNotExecutableError(\u001b[38;5;28mself\u001b[39m)\n",
      "File \u001b[1;32m~\\AppData\\Local\\Programs\\Python\\Python310\\lib\\site-packages\\sqlalchemy\\engine\\base.py:1572\u001b[0m, in \u001b[0;36mConnection._execute_clauseelement\u001b[1;34m(self, elem, multiparams, params, execution_options)\u001b[0m\n\u001b[0;32m   1560\u001b[0m compiled_cache \u001b[38;5;241m=\u001b[39m execution_options\u001b[38;5;241m.\u001b[39mget(\n\u001b[0;32m   1561\u001b[0m     \u001b[38;5;124m\"\u001b[39m\u001b[38;5;124mcompiled_cache\u001b[39m\u001b[38;5;124m\"\u001b[39m, \u001b[38;5;28mself\u001b[39m\u001b[38;5;241m.\u001b[39mengine\u001b[38;5;241m.\u001b[39m_compiled_cache\n\u001b[0;32m   1562\u001b[0m )\n\u001b[0;32m   1564\u001b[0m compiled_sql, extracted_params, cache_hit \u001b[38;5;241m=\u001b[39m elem\u001b[38;5;241m.\u001b[39m_compile_w_cache(\n\u001b[0;32m   1565\u001b[0m     dialect\u001b[38;5;241m=\u001b[39mdialect,\n\u001b[0;32m   1566\u001b[0m     compiled_cache\u001b[38;5;241m=\u001b[39mcompiled_cache,\n\u001b[1;32m   (...)\u001b[0m\n\u001b[0;32m   1570\u001b[0m     linting\u001b[38;5;241m=\u001b[39m\u001b[38;5;28mself\u001b[39m\u001b[38;5;241m.\u001b[39mdialect\u001b[38;5;241m.\u001b[39mcompiler_linting \u001b[38;5;241m|\u001b[39m compiler\u001b[38;5;241m.\u001b[39mWARN_LINTING,\n\u001b[0;32m   1571\u001b[0m )\n\u001b[1;32m-> 1572\u001b[0m ret \u001b[38;5;241m=\u001b[39m \u001b[38;5;28;43mself\u001b[39;49m\u001b[38;5;241;43m.\u001b[39;49m\u001b[43m_execute_context\u001b[49m\u001b[43m(\u001b[49m\n\u001b[0;32m   1573\u001b[0m \u001b[43m    \u001b[49m\u001b[43mdialect\u001b[49m\u001b[43m,\u001b[49m\n\u001b[0;32m   1574\u001b[0m \u001b[43m    \u001b[49m\u001b[43mdialect\u001b[49m\u001b[38;5;241;43m.\u001b[39;49m\u001b[43mexecution_ctx_cls\u001b[49m\u001b[38;5;241;43m.\u001b[39;49m\u001b[43m_init_compiled\u001b[49m\u001b[43m,\u001b[49m\n\u001b[0;32m   1575\u001b[0m \u001b[43m    \u001b[49m\u001b[43mcompiled_sql\u001b[49m\u001b[43m,\u001b[49m\n\u001b[0;32m   1576\u001b[0m \u001b[43m    \u001b[49m\u001b[43mdistilled_params\u001b[49m\u001b[43m,\u001b[49m\n\u001b[0;32m   1577\u001b[0m \u001b[43m    \u001b[49m\u001b[43mexecution_options\u001b[49m\u001b[43m,\u001b[49m\n\u001b[0;32m   1578\u001b[0m \u001b[43m    \u001b[49m\u001b[43mcompiled_sql\u001b[49m\u001b[43m,\u001b[49m\n\u001b[0;32m   1579\u001b[0m \u001b[43m    \u001b[49m\u001b[43mdistilled_params\u001b[49m\u001b[43m,\u001b[49m\n\u001b[0;32m   1580\u001b[0m \u001b[43m    \u001b[49m\u001b[43melem\u001b[49m\u001b[43m,\u001b[49m\n\u001b[0;32m   1581\u001b[0m \u001b[43m    \u001b[49m\u001b[43mextracted_params\u001b[49m\u001b[43m,\u001b[49m\n\u001b[0;32m   1582\u001b[0m \u001b[43m    \u001b[49m\u001b[43mcache_hit\u001b[49m\u001b[38;5;241;43m=\u001b[39;49m\u001b[43mcache_hit\u001b[49m\u001b[43m,\u001b[49m\n\u001b[0;32m   1583\u001b[0m \u001b[43m\u001b[49m\u001b[43m)\u001b[49m\n\u001b[0;32m   1584\u001b[0m \u001b[38;5;28;01mif\u001b[39;00m has_events:\n\u001b[0;32m   1585\u001b[0m     \u001b[38;5;28mself\u001b[39m\u001b[38;5;241m.\u001b[39mdispatch\u001b[38;5;241m.\u001b[39mafter_execute(\n\u001b[0;32m   1586\u001b[0m         \u001b[38;5;28mself\u001b[39m,\n\u001b[0;32m   1587\u001b[0m         elem,\n\u001b[1;32m   (...)\u001b[0m\n\u001b[0;32m   1591\u001b[0m         ret,\n\u001b[0;32m   1592\u001b[0m     )\n",
      "File \u001b[1;32m~\\AppData\\Local\\Programs\\Python\\Python310\\lib\\site-packages\\sqlalchemy\\engine\\base.py:1943\u001b[0m, in \u001b[0;36mConnection._execute_context\u001b[1;34m(self, dialect, constructor, statement, parameters, execution_options, *args, **kw)\u001b[0m\n\u001b[0;32m   1940\u001b[0m             branched\u001b[38;5;241m.\u001b[39mclose()\n\u001b[0;32m   1942\u001b[0m \u001b[38;5;28;01mexcept\u001b[39;00m \u001b[38;5;167;01mBaseException\u001b[39;00m \u001b[38;5;28;01mas\u001b[39;00m e:\n\u001b[1;32m-> 1943\u001b[0m     \u001b[38;5;28;43mself\u001b[39;49m\u001b[38;5;241;43m.\u001b[39;49m\u001b[43m_handle_dbapi_exception\u001b[49m\u001b[43m(\u001b[49m\n\u001b[0;32m   1944\u001b[0m \u001b[43m        \u001b[49m\u001b[43me\u001b[49m\u001b[43m,\u001b[49m\u001b[43m \u001b[49m\u001b[43mstatement\u001b[49m\u001b[43m,\u001b[49m\u001b[43m \u001b[49m\u001b[43mparameters\u001b[49m\u001b[43m,\u001b[49m\u001b[43m \u001b[49m\u001b[43mcursor\u001b[49m\u001b[43m,\u001b[49m\u001b[43m \u001b[49m\u001b[43mcontext\u001b[49m\n\u001b[0;32m   1945\u001b[0m \u001b[43m    \u001b[49m\u001b[43m)\u001b[49m\n\u001b[0;32m   1947\u001b[0m \u001b[38;5;28;01mreturn\u001b[39;00m result\n",
      "File \u001b[1;32m~\\AppData\\Local\\Programs\\Python\\Python310\\lib\\site-packages\\sqlalchemy\\engine\\base.py:2124\u001b[0m, in \u001b[0;36mConnection._handle_dbapi_exception\u001b[1;34m(self, e, statement, parameters, cursor, context)\u001b[0m\n\u001b[0;32m   2122\u001b[0m     util\u001b[38;5;241m.\u001b[39mraise_(newraise, with_traceback\u001b[38;5;241m=\u001b[39mexc_info[\u001b[38;5;241m2\u001b[39m], from_\u001b[38;5;241m=\u001b[39me)\n\u001b[0;32m   2123\u001b[0m \u001b[38;5;28;01melif\u001b[39;00m should_wrap:\n\u001b[1;32m-> 2124\u001b[0m     \u001b[43mutil\u001b[49m\u001b[38;5;241;43m.\u001b[39;49m\u001b[43mraise_\u001b[49m\u001b[43m(\u001b[49m\n\u001b[0;32m   2125\u001b[0m \u001b[43m        \u001b[49m\u001b[43msqlalchemy_exception\u001b[49m\u001b[43m,\u001b[49m\u001b[43m \u001b[49m\u001b[43mwith_traceback\u001b[49m\u001b[38;5;241;43m=\u001b[39;49m\u001b[43mexc_info\u001b[49m\u001b[43m[\u001b[49m\u001b[38;5;241;43m2\u001b[39;49m\u001b[43m]\u001b[49m\u001b[43m,\u001b[49m\u001b[43m \u001b[49m\u001b[43mfrom_\u001b[49m\u001b[38;5;241;43m=\u001b[39;49m\u001b[43me\u001b[49m\n\u001b[0;32m   2126\u001b[0m \u001b[43m    \u001b[49m\u001b[43m)\u001b[49m\n\u001b[0;32m   2127\u001b[0m \u001b[38;5;28;01melse\u001b[39;00m:\n\u001b[0;32m   2128\u001b[0m     util\u001b[38;5;241m.\u001b[39mraise_(exc_info[\u001b[38;5;241m1\u001b[39m], with_traceback\u001b[38;5;241m=\u001b[39mexc_info[\u001b[38;5;241m2\u001b[39m])\n",
      "File \u001b[1;32m~\\AppData\\Local\\Programs\\Python\\Python310\\lib\\site-packages\\sqlalchemy\\util\\compat.py:211\u001b[0m, in \u001b[0;36mraise_\u001b[1;34m(***failed resolving arguments***)\u001b[0m\n\u001b[0;32m    208\u001b[0m     exception\u001b[38;5;241m.\u001b[39m__cause__ \u001b[38;5;241m=\u001b[39m replace_context\n\u001b[0;32m    210\u001b[0m \u001b[38;5;28;01mtry\u001b[39;00m:\n\u001b[1;32m--> 211\u001b[0m     \u001b[38;5;28;01mraise\u001b[39;00m exception\n\u001b[0;32m    212\u001b[0m \u001b[38;5;28;01mfinally\u001b[39;00m:\n\u001b[0;32m    213\u001b[0m     \u001b[38;5;66;03m# credit to\u001b[39;00m\n\u001b[0;32m    214\u001b[0m     \u001b[38;5;66;03m# https://cosmicpercolator.com/2016/01/13/exception-leaks-in-python-2-and-3/\u001b[39;00m\n\u001b[0;32m    215\u001b[0m     \u001b[38;5;66;03m# as the __traceback__ object creates a cycle\u001b[39;00m\n\u001b[0;32m    216\u001b[0m     \u001b[38;5;28;01mdel\u001b[39;00m exception, replace_context, from_, with_traceback\n",
      "File \u001b[1;32m~\\AppData\\Local\\Programs\\Python\\Python310\\lib\\site-packages\\sqlalchemy\\engine\\base.py:1900\u001b[0m, in \u001b[0;36mConnection._execute_context\u001b[1;34m(self, dialect, constructor, statement, parameters, execution_options, *args, **kw)\u001b[0m\n\u001b[0;32m   1898\u001b[0m                 \u001b[38;5;28;01mbreak\u001b[39;00m\n\u001b[0;32m   1899\u001b[0m     \u001b[38;5;28;01mif\u001b[39;00m \u001b[38;5;129;01mnot\u001b[39;00m evt_handled:\n\u001b[1;32m-> 1900\u001b[0m         \u001b[38;5;28;43mself\u001b[39;49m\u001b[38;5;241;43m.\u001b[39;49m\u001b[43mdialect\u001b[49m\u001b[38;5;241;43m.\u001b[39;49m\u001b[43mdo_execute\u001b[49m\u001b[43m(\u001b[49m\n\u001b[0;32m   1901\u001b[0m \u001b[43m            \u001b[49m\u001b[43mcursor\u001b[49m\u001b[43m,\u001b[49m\u001b[43m \u001b[49m\u001b[43mstatement\u001b[49m\u001b[43m,\u001b[49m\u001b[43m \u001b[49m\u001b[43mparameters\u001b[49m\u001b[43m,\u001b[49m\u001b[43m \u001b[49m\u001b[43mcontext\u001b[49m\n\u001b[0;32m   1902\u001b[0m \u001b[43m        \u001b[49m\u001b[43m)\u001b[49m\n\u001b[0;32m   1904\u001b[0m \u001b[38;5;28;01mif\u001b[39;00m \u001b[38;5;28mself\u001b[39m\u001b[38;5;241m.\u001b[39m_has_events \u001b[38;5;129;01mor\u001b[39;00m \u001b[38;5;28mself\u001b[39m\u001b[38;5;241m.\u001b[39mengine\u001b[38;5;241m.\u001b[39m_has_events:\n\u001b[0;32m   1905\u001b[0m     \u001b[38;5;28mself\u001b[39m\u001b[38;5;241m.\u001b[39mdispatch\u001b[38;5;241m.\u001b[39mafter_cursor_execute(\n\u001b[0;32m   1906\u001b[0m         \u001b[38;5;28mself\u001b[39m,\n\u001b[0;32m   1907\u001b[0m         cursor,\n\u001b[1;32m   (...)\u001b[0m\n\u001b[0;32m   1911\u001b[0m         context\u001b[38;5;241m.\u001b[39mexecutemany,\n\u001b[0;32m   1912\u001b[0m     )\n",
      "File \u001b[1;32m~\\AppData\\Local\\Programs\\Python\\Python310\\lib\\site-packages\\sqlalchemy\\engine\\default.py:736\u001b[0m, in \u001b[0;36mDefaultDialect.do_execute\u001b[1;34m(self, cursor, statement, parameters, context)\u001b[0m\n\u001b[0;32m    735\u001b[0m \u001b[38;5;28;01mdef\u001b[39;00m \u001b[38;5;21mdo_execute\u001b[39m(\u001b[38;5;28mself\u001b[39m, cursor, statement, parameters, context\u001b[38;5;241m=\u001b[39m\u001b[38;5;28;01mNone\u001b[39;00m):\n\u001b[1;32m--> 736\u001b[0m     \u001b[43mcursor\u001b[49m\u001b[38;5;241;43m.\u001b[39;49m\u001b[43mexecute\u001b[49m\u001b[43m(\u001b[49m\u001b[43mstatement\u001b[49m\u001b[43m,\u001b[49m\u001b[43m \u001b[49m\u001b[43mparameters\u001b[49m\u001b[43m)\u001b[49m\n",
      "\u001b[1;31mProgrammingError\u001b[0m: (psycopg2.errors.InsufficientPrivilege) permission denied for relation coordinates\n\n[SQL: INSERT INTO dbo.coordinates (place_id, longtude, latitude) VALUES (%(place_id_m0)s, %(longtude_m0)s, %(latitude_m0)s), (%(place_id_m1)s, %(longtude_m1)s, %(latitude_m1)s), (%(place_id_m2)s, %(longtude_m2)s, %(latitude_m2)s), (%(place_id_m3)s, %(longtude_m3)s, %(latitude_m3)s), (%(place_id_m4)s, %(longtude_m4)s, %(latitude_m4)s), (%(place_id_m5)s, %(longtude_m5)s, %(latitude_m5)s), (%(place_id_m6)s, %(longtude_m6)s, %(latitude_m6)s), (%(place_id_m7)s, %(longtude_m7)s, %(latitude_m7)s), (%(place_id_m8)s, %(longtude_m8)s, %(latitude_m8)s), (%(place_id_m9)s, %(longtude_m9)s, %(latitude_m9)s), (%(place_id_m10)s, %(longtude_m10)s, %(latitude_m10)s), (%(place_id_m11)s, %(longtude_m11)s, %(latitude_m11)s), (%(place_id_m12)s, %(longtude_m12)s, %(latitude_m12)s), (%(place_id_m13)s, %(longtude_m13)s, %(latitude_m13)s), (%(place_id_m14)s, %(longtude_m14)s, %(latitude_m14)s), (%(place_id_m15)s, %(longtude_m15)s, %(latitude_m15)s), (%(place_id_m16)s, %(longtude_m16)s, %(latitude_m16)s), (%(place_id_m17)s, %(longtude_m17)s, %(latitude_m17)s), (%(place_id_m18)s, %(longtude_m18)s, %(latitude_m18)s), (%(place_id_m19)s, %(longtude_m19)s, %(latitude_m19)s), (%(place_id_m20)s, %(longtude_m20)s, %(latitude_m20)s), (%(place_id_m21)s, %(longtude_m21)s, %(latitude_m21)s), (%(place_id_m22)s, %(longtude_m22)s, %(latitude_m22)s), (%(place_id_m23)s, %(longtude_m23)s, %(latitude_m23)s), (%(place_id_m24)s, %(longtude_m24)s, %(latitude_m24)s), (%(place_id_m25)s, %(longtude_m25)s, %(latitude_m25)s), (%(place_id_m26)s, %(longtude_m26)s, %(latitude_m26)s), (%(place_id_m27)s, %(longtude_m27)s, %(latitude_m27)s), (%(place_id_m28)s, %(longtude_m28)s, %(latitude_m28)s), (%(place_id_m29)s, %(longtude_m29)s, %(latitude_m29)s), (%(place_id_m30)s, %(longtude_m30)s, %(latitude_m30)s), (%(place_id_m31)s, %(longtude_m31)s, %(latitude_m31)s), (%(place_id_m32)s, %(longtude_m32)s, %(latitude_m32)s), (%(place_id_m33)s, %(longtude_m33)s, %(latitude_m33)s), (%(place_id_m34)s, %(longtude_m34)s, %(latitude_m34)s), (%(place_id_m35)s, %(longtude_m35)s, %(latitude_m35)s), (%(place_id_m36)s, %(longtude_m36)s, %(latitude_m36)s), (%(place_id_m37)s, %(longtude_m37)s, %(latitude_m37)s), (%(place_id_m38)s, %(longtude_m38)s, %(latitude_m38)s), (%(place_id_m39)s, %(longtude_m39)s, %(latitude_m39)s), (%(place_id_m40)s, %(longtude_m40)s, %(latitude_m40)s), (%(place_id_m41)s, %(longtude_m41)s, %(latitude_m41)s), (%(place_id_m42)s, %(longtude_m42)s, %(latitude_m42)s), (%(place_id_m43)s, %(longtude_m43)s, %(latitude_m43)s), (%(place_id_m44)s, %(longtude_m44)s, %(latitude_m44)s), (%(place_id_m45)s, %(longtude_m45)s, %(latitude_m45)s), (%(place_id_m46)s, %(longtude_m46)s, %(latitude_m46)s), (%(place_id_m47)s, %(longtude_m47)s, %(latitude_m47)s), (%(place_id_m48)s, %(longtude_m48)s, %(latitude_m48)s), (%(place_id_m49)s, %(longtude_m49)s, %(latitude_m49)s), (%(place_id_m50)s, %(longtude_m50)s, %(latitude_m50)s), (%(place_id_m51)s, %(longtude_m51)s, %(latitude_m51)s), (%(place_id_m52)s, %(longtude_m52)s, %(latitude_m52)s), (%(place_id_m53)s, %(longtude_m53)s, %(latitude_m53)s), (%(place_id_m54)s, %(longtude_m54)s, %(latitude_m54)s), (%(place_id_m55)s, %(longtude_m55)s, %(latitude_m55)s), (%(place_id_m56)s, %(longtude_m56)s, %(latitude_m56)s), (%(place_id_m57)s, %(longtude_m57)s, %(latitude_m57)s), (%(place_id_m58)s, %(longtude_m58)s, %(latitude_m58)s), (%(place_id_m59)s, %(longtude_m59)s, %(latitude_m59)s), (%(place_id_m60)s, %(longtude_m60)s, %(latitude_m60)s), (%(place_id_m61)s, %(longtude_m61)s, %(latitude_m61)s), (%(place_id_m62)s, %(longtude_m62)s, %(latitude_m62)s), (%(place_id_m63)s, %(longtude_m63)s, %(latitude_m63)s), (%(place_id_m64)s, %(longtude_m64)s, %(latitude_m64)s), (%(place_id_m65)s, %(longtude_m65)s, %(latitude_m65)s), (%(place_id_m66)s, %(longtude_m66)s, %(latitude_m66)s), (%(place_id_m67)s, %(longtude_m67)s, %(latitude_m67)s), (%(place_id_m68)s, %(longtude_m68)s, %(latitude_m68)s), (%(place_id_m69)s, %(longtude_m69)s, %(latitude_m69)s), (%(place_id_m70)s, %(longtude_m70)s, %(latitude_m70)s), (%(place_id_m71)s, %(longtude_m71)s, %(latitude_m71)s), (%(place_id_m72)s, %(longtude_m72)s, %(latitude_m72)s), (%(place_id_m73)s, %(longtude_m73)s, %(latitude_m73)s), (%(place_id_m74)s, %(longtude_m74)s, %(latitude_m74)s), (%(place_id_m75)s, %(longtude_m75)s, %(latitude_m75)s), (%(place_id_m76)s, %(longtude_m76)s, %(latitude_m76)s), (%(place_id_m77)s, %(longtude_m77)s, %(latitude_m77)s), (%(place_id_m78)s, %(longtude_m78)s, %(latitude_m78)s), (%(place_id_m79)s, %(longtude_m79)s, %(latitude_m79)s), (%(place_id_m80)s, %(longtude_m80)s, %(latitude_m80)s), (%(place_id_m81)s, %(longtude_m81)s, %(latitude_m81)s), (%(place_id_m82)s, %(longtude_m82)s, %(latitude_m82)s), (%(place_id_m83)s, %(longtude_m83)s, %(latitude_m83)s), (%(place_id_m84)s, %(longtude_m84)s, %(latitude_m84)s), (%(place_id_m85)s, %(longtude_m85)s, %(latitude_m85)s), (%(place_id_m86)s, %(longtude_m86)s, %(latitude_m86)s), (%(place_id_m87)s, %(longtude_m87)s, %(latitude_m87)s), (%(place_id_m88)s, %(longtude_m88)s, %(latitude_m88)s), (%(place_id_m89)s, %(longtude_m89)s, %(latitude_m89)s), (%(place_id_m90)s, %(longtude_m90)s, %(latitude_m90)s), (%(place_id_m91)s, %(longtude_m91)s, %(latitude_m91)s), (%(place_id_m92)s, %(longtude_m92)s, %(latitude_m92)s), (%(place_id_m93)s, %(longtude_m93)s, %(latitude_m93)s), (%(place_id_m94)s, %(longtude_m94)s, %(latitude_m94)s), (%(place_id_m95)s, %(longtude_m95)s, %(latitude_m95)s), (%(place_id_m96)s, %(longtude_m96)s, %(latitude_m96)s), (%(place_id_m97)s, %(longtude_m97)s, %(latitude_m97)s), (%(place_id_m98)s, %(longtude_m98)s, %(latitude_m98)s), (%(place_id_m99)s, %(longtude_m99)s, %(latitude_m99)s), (%(place_id_m100)s, %(longtude_m100)s, %(latitude_m100)s), (%(place_id_m101)s, %(longtude_m101)s, %(latitude_m101)s), (%(place_id_m102)s, %(longtude_m102)s, %(latitude_m102)s), (%(place_id_m103)s, %(longtude_m103)s, %(latitude_m103)s), (%(place_id_m104)s, %(longtude_m104)s, %(latitude_m104)s), (%(place_id_m105)s, %(longtude_m105)s, %(latitude_m105)s), (%(place_id_m106)s, %(longtude_m106)s, %(latitude_m106)s), (%(place_id_m107)s, %(longtude_m107)s, %(latitude_m107)s), (%(place_id_m108)s, %(longtude_m108)s, %(latitude_m108)s), (%(place_id_m109)s, %(longtude_m109)s, %(latitude_m109)s), (%(place_id_m110)s, %(longtude_m110)s, %(latitude_m110)s), (%(place_id_m111)s, %(longtude_m111)s, %(latitude_m111)s), (%(place_id_m112)s, %(longtude_m112)s, %(latitude_m112)s), (%(place_id_m113)s, %(longtude_m113)s, %(latitude_m113)s), (%(place_id_m114)s, %(longtude_m114)s, %(latitude_m114)s), (%(place_id_m115)s, %(longtude_m115)s, %(latitude_m115)s), (%(place_id_m116)s, %(longtude_m116)s, %(latitude_m116)s), (%(place_id_m117)s, %(longtude_m117)s, %(latitude_m117)s), (%(place_id_m118)s, %(longtude_m118)s, %(latitude_m118)s), (%(place_id_m119)s, %(longtude_m119)s, %(latitude_m119)s), (%(place_id_m120)s, %(longtude_m120)s, %(latitude_m120)s), (%(place_id_m121)s, %(longtude_m121)s, %(latitude_m121)s), (%(place_id_m122)s, %(longtude_m122)s, %(latitude_m122)s), (%(place_id_m123)s, %(longtude_m123)s, %(latitude_m123)s), (%(place_id_m124)s, %(longtude_m124)s, %(latitude_m124)s), (%(place_id_m125)s, %(longtude_m125)s, %(latitude_m125)s), (%(place_id_m126)s, %(longtude_m126)s, %(latitude_m126)s), (%(place_id_m127)s, %(longtude_m127)s, %(latitude_m127)s), (%(place_id_m128)s, %(longtude_m128)s, %(latitude_m128)s), (%(place_id_m129)s, %(longtude_m129)s, %(latitude_m129)s), (%(place_id_m130)s, %(longtude_m130)s, %(latitude_m130)s), (%(place_id_m131)s, %(longtude_m131)s, %(latitude_m131)s), (%(place_id_m132)s, %(longtude_m132)s, %(latitude_m132)s), (%(place_id_m133)s, %(longtude_m133)s, %(latitude_m133)s), (%(place_id_m134)s, %(longtude_m134)s, %(latitude_m134)s), (%(place_id_m135)s, %(longtude_m135)s, %(latitude_m135)s), (%(place_id_m136)s, %(longtude_m136)s, %(latitude_m136)s), (%(place_id_m137)s, %(longtude_m137)s, %(latitude_m137)s), (%(place_id_m138)s, %(longtude_m138)s, %(latitude_m138)s), (%(place_id_m139)s, %(longtude_m139)s, %(latitude_m139)s), (%(place_id_m140)s, %(longtude_m140)s, %(latitude_m140)s), (%(place_id_m141)s, %(longtude_m141)s, %(latitude_m141)s), (%(place_id_m142)s, %(longtude_m142)s, %(latitude_m142)s), (%(place_id_m143)s, %(longtude_m143)s, %(latitude_m143)s), (%(place_id_m144)s, %(longtude_m144)s, %(latitude_m144)s), (%(place_id_m145)s, %(longtude_m145)s, %(latitude_m145)s), (%(place_id_m146)s, %(longtude_m146)s, %(latitude_m146)s), (%(place_id_m147)s, %(longtude_m147)s, %(latitude_m147)s), (%(place_id_m148)s, %(longtude_m148)s, %(latitude_m148)s), (%(place_id_m149)s, %(longtude_m149)s, %(latitude_m149)s), (%(place_id_m150)s, %(longtude_m150)s, %(latitude_m150)s), (%(place_id_m151)s, %(longtude_m151)s, %(latitude_m151)s), (%(place_id_m152)s, %(longtude_m152)s, %(latitude_m152)s), (%(place_id_m153)s, %(longtude_m153)s, %(latitude_m153)s), (%(place_id_m154)s, %(longtude_m154)s, %(latitude_m154)s), (%(place_id_m155)s, %(longtude_m155)s, %(latitude_m155)s), (%(place_id_m156)s, %(longtude_m156)s, %(latitude_m156)s), (%(place_id_m157)s, %(longtude_m157)s, %(latitude_m157)s), (%(place_id_m158)s, %(longtude_m158)s, %(latitude_m158)s), (%(place_id_m159)s, %(longtude_m159)s, %(latitude_m159)s), (%(place_id_m160)s, %(longtude_m160)s, %(latitude_m160)s), (%(place_id_m161)s, %(longtude_m161)s, %(latitude_m161)s), (%(place_id_m162)s, %(longtude_m162)s, %(latitude_m162)s), (%(place_id_m163)s, %(longtude_m163)s, %(latitude_m163)s), (%(place_id_m164)s, %(longtude_m164)s, %(latitude_m164)s), (%(place_id_m165)s, %(longtude_m165)s, %(latitude_m165)s), (%(place_id_m166)s, %(longtude_m166)s, %(latitude_m166)s), (%(place_id_m167)s, %(longtude_m167)s, %(latitude_m167)s), (%(place_id_m168)s, %(longtude_m168)s, %(latitude_m168)s), (%(place_id_m169)s, %(longtude_m169)s, %(latitude_m169)s), (%(place_id_m170)s, %(longtude_m170)s, %(latitude_m170)s), (%(place_id_m171)s, %(longtude_m171)s, %(latitude_m171)s), (%(place_id_m172)s, %(longtude_m172)s, %(latitude_m172)s), (%(place_id_m173)s, %(longtude_m173)s, %(latitude_m173)s), (%(place_id_m174)s, %(longtude_m174)s, %(latitude_m174)s), (%(place_id_m175)s, %(longtude_m175)s, %(latitude_m175)s), (%(place_id_m176)s, %(longtude_m176)s, %(latitude_m176)s), (%(place_id_m177)s, %(longtude_m177)s, %(latitude_m177)s), (%(place_id_m178)s, %(longtude_m178)s, %(latitude_m178)s), (%(place_id_m179)s, %(longtude_m179)s, %(latitude_m179)s), (%(place_id_m180)s, %(longtude_m180)s, %(latitude_m180)s), (%(place_id_m181)s, %(longtude_m181)s, %(latitude_m181)s), (%(place_id_m182)s, %(longtude_m182)s, %(latitude_m182)s), (%(place_id_m183)s, %(longtude_m183)s, %(latitude_m183)s), (%(place_id_m184)s, %(longtude_m184)s, %(latitude_m184)s), (%(place_id_m185)s, %(longtude_m185)s, %(latitude_m185)s), (%(place_id_m186)s, %(longtude_m186)s, %(latitude_m186)s), (%(place_id_m187)s, %(longtude_m187)s, %(latitude_m187)s), (%(place_id_m188)s, %(longtude_m188)s, %(latitude_m188)s), (%(place_id_m189)s, %(longtude_m189)s, %(latitude_m189)s), (%(place_id_m190)s, %(longtude_m190)s, %(latitude_m190)s), (%(place_id_m191)s, %(longtude_m191)s, %(latitude_m191)s), (%(place_id_m192)s, %(longtude_m192)s, %(latitude_m192)s), (%(place_id_m193)s, %(longtude_m193)s, %(latitude_m193)s), (%(place_id_m194)s, %(longtude_m194)s, %(latitude_m194)s), (%(place_id_m195)s, %(longtude_m195)s, %(latitude_m195)s), (%(place_id_m196)s, %(longtude_m196)s, %(latitude_m196)s), (%(place_id_m197)s, %(longtude_m197)s, %(latitude_m197)s), (%(place_id_m198)s, %(longtude_m198)s, %(latitude_m198)s)]\n[parameters: {'place_id_m0': 1, 'longtude_m0': 65.522371, 'latitude_m0': 57.161884, 'place_id_m1': 2, 'longtude_m1': 65.533429, 'latitude_m1': 57.154605, 'place_id_m2': 3, 'longtude_m2': 65.536708, 'latitude_m2': 57.153741, 'place_id_m3': 4, 'longtude_m3': 65.51284, 'latitude_m3': 57.169863, 'place_id_m4': 5, 'longtude_m4': 65.541999, 'latitude_m4': 57.149357, 'place_id_m5': 6, 'longtude_m5': 65.532001, 'latitude_m5': 57.158857, 'place_id_m6': 7, 'longtude_m6': 65.560047, 'latitude_m6': 57.14442, 'place_id_m7': 8, 'longtude_m7': 65.537535, 'latitude_m7': 57.151159, 'place_id_m8': 9, 'longtude_m8': 65.548377, 'latitude_m8': 57.160561, 'place_id_m9': 10, 'longtude_m9': 65.719354, 'latitude_m9': 57.069568, 'place_id_m10': 11, 'longtude_m10': 65.519353, 'latitude_m10': 57.163104, 'place_id_m11': 12, 'longtude_m11': 65.528623, 'latitude_m11': 57.158872, 'place_id_m12': 13, 'longtude_m12': 65.538882, 'latitude_m12': 57.154088, 'place_id_m13': 14, 'longtude_m13': 65.530546, 'latitude_m13': 57.158979, 'place_id_m14': 15, 'longtude_m14': 65.47583, 'latitude_m14': 57.177929, 'place_id_m15': 16, 'longtude_m15': 65.571105, 'latitude_m15': 57.135053, 'place_id_m16': 17, 'longtude_m16': 65.551962, 'latitude_m16': 57.156963, 'place_id_m17': 18, 'longtude_m17': 65.577366, 'latitude_m17': 57.141573, 'place_id_m18': 19, 'longtude_m18': 65.526351, 'latitude_m18': 57.158018, 'place_id_m19': 20, 'longtude_m19': 65.522111, 'latitude_m19': 57.16571, 'place_id_m20': 21, 'longtude_m20': 65.527671, 'latitude_m20': 57.160244, 'place_id_m21': 22, 'longtude_m21': 65.535388, 'latitude_m21': 57.150661, 'place_id_m22': 23, 'longtude_m22': 65.525524, 'latitude_m22': 57.158276, 'place_id_m23': 24, 'longtude_m23': 65.550273, 'latitude_m23': 57.147072, 'place_id_m24': 25, 'longtude_m24': 65.630187, 'latitude_m24': 57.153922, 'place_id_m25': 26, 'longtude_m25': 65.566676, 'latitude_m25': 57.137779, 'place_id_m26': 27, 'longtude_m26': 65.547075, 'latitude_m26': 57.150207, 'place_id_m27': 28, 'longtude_m27': 65.559876, 'latitude_m27': 57.148849, 'place_id_m28': 29, 'longtude_m28': 65.551459, 'latitude_m28': 57.156895, 'place_id_m29': 30, 'longtude_m29': 65.514754, 'latitude_m29': 57.166388, 'place_id_m30': 31, 'longtude_m30': 65.530465, 'latitude_m30': 57.157491, 'place_id_m31': 32, 'longtude_m31': 65.511978, 'latitude_m31': 57.160126, 'place_id_m32': 33, 'longtude_m32': 65.554288, 'latitude_m32': 57.145216, 'place_id_m33': 34, 'longtude_m33': 65.611852, 'latitude_m33': 57.108159, 'place_id_m34': 35, 'longtude_m34': 65.566676, 'latitude_m34': 57.137779, 'place_id_m35': 36, 'longtude_m35': 65.582172, 'latitude_m35': 57.112412, 'place_id_m36': 37, 'longtude_m36': 65.59129, 'latitude_m36': 57.111092, 'place_id_m37': 38, 'longtude_m37': 65.549177, 'latitude_m37': 57.181992, 'place_id_m38': 39, 'longtude_m38': 65.547264, 'latitude_m38': 57.149103, 'place_id_m39': 40, 'longtude_m39': 65.550354, 'latitude_m39': 57.149665, 'place_id_m40': 41, 'longtude_m40': 65.56912, 'latitude_m40': 57.120123, 'place_id_m41': 42, 'longtude_m41': 65.572749, 'latitude_m41': 57.135293, 'place_id_m42': 43, 'longtude_m42': 65.51284, 'latitude_m42': 57.169863, 'place_id_m43': 44, 'longtude_m43': 65.529154, 'latitude_m43': 57.156251, 'place_id_m44': 45, 'longtude_m44': 65.719354, 'latitude_m44': 57.069568, 'place_id_m45': 46, 'longtude_m45': 65.527671, 'latitude_m45': 57.160244, 'place_id_m46': 47, 'longtude_m46': 65.544865, 'latitude_m46': 57.1505, 'place_id_m47': 48, 'longtude_m47': 65.541424, 'latitude_m47': 57.148678, 'place_id_m48': 49, 'longtude_m48': 65.551459, 'latitude_m48': 57.156895, 'place_id_m49': 50, 'longtude_m49': 65.550066, 'latitude_m49': 57.188104, 'place_id_m50': 51, 'longtude_m50': 65.576171, 'latitude_m50': 57.137202, 'place_id_m51': 52, 'longtude_m51': 65.656481, 'latitude_m51': 57.175543, 'place_id_m52': 53, 'longtude_m52': 65.312713, 'latitude_m52': 57.201237, 'place_id_m53': 54, 'longtude_m53': 65.576504, 'latitude_m53': 57.121873, 'place_id_m54': 55, 'longtude_m54': 65.55596800000001, 'latitude_m54': 57.12799, 'place_id_m55': 56, 'longtude_m55': 65.527671, 'latitude_m55': 57.160244, 'place_id_m56': 57, 'longtude_m56': 65.560082, 'latitude_m56': 57.13603, 'place_id_m57': 58, 'longtude_m57': 65.35639, 'latitude_m57': 57.159541, 'place_id_m58': 59, 'longtude_m58': 65.503309, 'latitude_m58': 57.163011, 'place_id_m59': 60, 'longtude_m59': 65.5723, 'latitude_m59': 57.136015, 'place_id_m60': 61, 'longtude_m60': 65.577249, 'latitude_m60': 57.118657, 'place_id_m61': 62, 'longtude_m61': 65.592018, 'latitude_m61': 57.126099, 'place_id_m62': 63, 'longtude_m62': 65.540311, 'latitude_m62': 57.15132, 'place_id_m63': 64, 'longtude_m63': 65.56019, 'latitude_m63': 57.141075, 'place_id_m64': 65, 'longtude_m64': 65.576809, 'latitude_m64': 57.179758, 'place_id_m65': 66, 'longtude_m65': 65.486537, 'latitude_m65': 57.149298, 'place_id_m66': 67, 'longtude_m66': 65.530977, 'latitude_m66': 57.159526, 'place_id_m67': 68, 'longtude_m67': 65.600327, 'latitude_m67': 57.111977, 'place_id_m68': 69, 'longtude_m68': 65.650651, 'latitude_m68': 57.154356, 'place_id_m69': 70, 'longtude_m69': 65.640212, 'latitude_m69': 57.169834, 'place_id_m70': 71, 'longtude_m70': 65.588397, 'latitude_m70': 57.111522, 'place_id_m71': 72, 'longtude_m71': 65.535199, 'latitude_m71': 57.159697, 'place_id_m72': 73, 'longtude_m72': 65.561403, 'latitude_m72': 57.133695, 'place_id_m73': 74, 'longtude_m73': 65.577815, 'latitude_m73': 57.151642, 'place_id_m74': 75, 'longtude_m74': 65.582226, 'latitude_m74': 57.12026, 'place_id_m75': 76, 'longtude_m75': 65.549177, 'latitude_m75': 57.181992, 'place_id_m76': 77, 'longtude_m76': 65.443014, 'latitude_m76': 57.202695, 'place_id_m77': 78, 'longtude_m77': 65.601037, 'latitude_m77': 57.105045, 'place_id_m78': 79, 'longtude_m78': 65.54703, 'latitude_m78': 57.213585, 'place_id_m79': 80, 'longtude_m79': 65.548342, 'latitude_m79': 57.153053, 'place_id_m80': 81, 'longtude_m80': 65.557495, 'latitude_m80': 57.146667, 'place_id_m81': 82, 'longtude_m81': 65.63104, 'latitude_m81': 57.192099, 'place_id_m82': 83, 'longtude_m82': 65.360558, 'latitude_m82': 57.201222, 'place_id_m83': 84, 'longtude_m83': 65.513729, 'latitude_m83': 57.157066, 'place_id_m84': 85, 'longtude_m84': 65.577043, 'latitude_m84': 57.155948, 'place_id_m85': 86, 'longtude_m85': 65.58422, 'latitude_m85': 57.114269, 'place_id_m86': 87, 'longtude_m86': 65.61558, 'latitude_m86': 57.180139, 'place_id_m87': 88, 'longtude_m87': 65.552222, 'latitude_m87': 57.157964, 'place_id_m88': 89, 'longtude_m88': 65.525057, 'latitude_m88': 57.145241, 'place_id_m89': 90, 'longtude_m89': 65.519083, 'latitude_m89': 57.127433, 'place_id_m90': 91, 'longtude_m90': 65.551863, 'latitude_m90': 57.155587, 'place_id_m91': 92, 'longtude_m91': 65.541424, 'latitude_m91': 57.148678, 'place_id_m92': 93, 'longtude_m92': 65.570368, 'latitude_m92': 57.102973, 'place_id_m93': 94, 'longtude_m93': 65.569335, 'latitude_m93': 57.151222, 'place_id_m94': 95, 'longtude_m94': 65.523602, 'latitude_m94': 57.160078, 'place_id_m95': 96, 'longtude_m95': 65.587643, 'latitude_m95': 57.107587, 'place_id_m96': 97, 'longtude_m96': 65.597345, 'latitude_m96': 57.126299, 'place_id_m97': 98, 'longtude_m97': 65.566496, 'latitude_m97': 57.154132, 'place_id_m98': 99, 'longtude_m98': 65.452824, 'latitude_m98': 57.248642, 'place_id_m99': 100, 'longtude_m99': 65.656481, 'latitude_m99': 57.175543, 'place_id_m100': 101, 'longtude_m100': 65.608124, 'latitude_m100': 57.12283, 'place_id_m101': 102, 'longtude_m101': 65.63935, 'latitude_m101': 57.224248, 'place_id_m102': 103, 'longtude_m102': 65.581094, 'latitude_m102': 57.189294, 'place_id_m103': 104, 'longtude_m103': 65.535963, 'latitude_m103': 57.172069, 'place_id_m104': 105, 'longtude_m104': 65.477734, 'latitude_m104': 57.159702, 'place_id_m105': 106, 'longtude_m105': 65.641982, 'latitude_m105': 57.170073, 'place_id_m106': 107, 'longtude_m106': 65.589448, 'latitude_m106': 57.10703, 'place_id_m107': 108, 'longtude_m107': 65.656481, 'latitude_m107': 57.175543, 'place_id_m108': 109, 'longtude_m108': 65.540221, 'latitude_m108': 57.171644, 'place_id_m109': 110, 'longtude_m109': 65.533717, 'latitude_m109': 57.155953, 'place_id_m110': 111, 'longtude_m110': 65.568257, 'latitude_m110': 57.159101, 'place_id_m111': 112, 'longtude_m111': 65.530519, 'latitude_m111': 57.128273, 'place_id_m112': 113, 'longtude_m112': 65.489789, 'latitude_m112': 57.158979, 'place_id_m113': 114, 'longtude_m113': 65.541227, 'latitude_m113': 57.152985, 'place_id_m114': 115, 'longtude_m114': 65.532082, 'latitude_m114': 57.15503, 'place_id_m115': 116, 'longtude_m115': 65.541424, 'latitude_m115': 57.148678, 'place_id_m116': 117, 'longtude_m116': 65.528623, 'latitude_m116': 57.158872, 'place_id_m117': 118, 'longtude_m117': 65.509489, 'latitude_m117': 57.249149, 'place_id_m118': 119, 'longtude_m118': 65.563891, 'latitude_m118': 57.120138, 'place_id_m119': 120, 'longtude_m119': 65.546239, 'latitude_m119': 57.160195, 'place_id_m120': 121, 'longtude_m120': 65.549581, 'latitude_m120': 57.117362, 'place_id_m121': 122, 'longtude_m121': 65.642638, 'latitude_m121': 57.167223, 'place_id_m122': 123, 'longtude_m122': 65.559876, 'latitude_m122': 57.148849, 'place_id_m123': 124, 'longtude_m123': 65.524617, 'latitude_m123': 57.15234, 'place_id_m124': 125, 'longtude_m124': 65.543814, 'latitude_m124': 57.160341, 'place_id_m125': 126, 'longtude_m125': 65.577249, 'latitude_m125': 57.118657, 'place_id_m126': 127, 'longtude_m126': 65.572901, 'latitude_m126': 57.149396, 'place_id_m127': 128, 'longtude_m127': 65.520997, 'latitude_m127': 57.160576, 'place_id_m128': 129, 'longtude_m128': 65.587113, 'latitude_m128': 57.104473, 'place_id_m129': 130, 'longtude_m129': 65.520997, 'latitude_m129': 57.160576, 'place_id_m130': 131, 'longtude_m130': 65.544398, 'latitude_m130': 57.159507, 'place_id_m131': 132, 'longtude_m131': 65.540221, 'latitude_m131': 57.171644, 'place_id_m132': 133, 'longtude_m132': 65.656481, 'latitude_m132': 57.175543, 'place_id_m133': 134, 'longtude_m133': 65.543257, 'latitude_m133': 57.158589, 'place_id_m134': 135, 'longtude_m134': 65.565697, 'latitude_m134': 57.118955, 'place_id_m135': 136, 'longtude_m135': 65.545431, 'latitude_m135': 57.115412, 'place_id_m136': 137, 'longtude_m136': 65.562813, 'latitude_m136': 57.123451, 'place_id_m137': 138, 'longtude_m137': 65.587221, 'latitude_m137': 57.112421, 'place_id_m138': 139, 'longtude_m138': 65.574779, 'latitude_m138': 57.118545, 'place_id_m139': 140, 'longtude_m139': 65.493805, 'latitude_m139': 57.135043, 'place_id_m140': 141, 'longtude_m140': 65.577249, 'latitude_m140': 57.118657, 'place_id_m141': 142, 'longtude_m141': 65.919939, 'latitude_m141': 57.186173, 'place_id_m142': 143, 'longtude_m142': 65.545027, 'latitude_m142': 57.130105, 'place_id_m143': 144, 'longtude_m143': 65.536178, 'latitude_m143': 57.157813, 'place_id_m144': 145, 'longtude_m144': 65.561044, 'latitude_m144': 57.159638, 'place_id_m145': 146, 'longtude_m145': 65.540221, 'latitude_m145': 57.171644, 'place_id_m146': 147, 'longtude_m146': 65.503138, 'latitude_m146': 57.150929, 'place_id_m147': 148, 'longtude_m147': 65.537427, 'latitude_m147': 57.148693, 'place_id_m148': 149, 'longtude_m148': 65.493805, 'latitude_m148': 57.135043, 'place_id_m149': 150, 'longtude_m149': 65.430024, 'latitude_m149': 57.166052, 'place_id_m150': 151, 'longtude_m150': 65.522452, 'latitude_m150': 57.146027, 'place_id_m151': 152, 'longtude_m151': 65.590302, 'latitude_m151': 57.195756, 'place_id_m152': 153, 'longtude_m152': 65.509489, 'latitude_m152': 57.249149, 'place_id_m153': 154, 'longtude_m153': 65.577249, 'latitude_m153': 57.118657, 'place_id_m154': 155, 'longtude_m154': 65.53281, 'latitude_m154': 57.157822, 'place_id_m155': 156, 'longtude_m155': 65.526351, 'latitude_m155': 57.160541, 'place_id_m156': 157, 'longtude_m156': 65.561403, 'latitude_m156': 57.133695, 'place_id_m157': 158, 'longtude_m157': 65.575623, 'latitude_m157': 57.158491, 'place_id_m158': 159, 'longtude_m158': 65.530366, 'latitude_m158': 57.1515, 'place_id_m159': 160, 'longtude_m159': 65.577815, 'latitude_m159': 57.134472, 'place_id_m160': 161, 'longtude_m160': 65.602636, 'latitude_m160': 57.184875, 'place_id_m161': 162, 'longtude_m161': 65.719354, 'latitude_m161': 57.069568, 'place_id_m162': 163, 'longtude_m162': 65.574069, 'latitude_m162': 57.112588, 'place_id_m163': 164, 'longtude_m163': 65.553112, 'latitude_m163': 57.158374, 'place_id_m164': 165, 'longtude_m164': 65.538173, 'latitude_m164': 57.158618, 'place_id_m165': 166, 'longtude_m165': 65.526252, 'latitude_m165': 57.157329, 'place_id_m166': 167, 'longtude_m166': 65.575039, 'latitude_m166': 57.106052, 'place_id_m167': 168, 'longtude_m167': 65.560621, 'latitude_m167': 57.131746, 'place_id_m168': 169, 'longtude_m168': 65.550237, 'latitude_m168': 57.137871, 'place_id_m169': 170, 'longtude_m169': 65.550192, 'latitude_m169': 57.158272, 'place_id_m170': 171, 'longtude_m170': 65.562238, 'latitude_m170': 57.109758, 'place_id_m171': 172, 'longtude_m171': 65.563209, 'latitude_m171': 57.135004, 'place_id_m172': 173, 'longtude_m172': 65.562885, 'latitude_m172': 57.149821, 'place_id_m173': 174, 'longtude_m173': 65.562742, 'latitude_m173': 57.108457, 'place_id_m174': 175, 'longtude_m174': 65.559364, 'latitude_m174': 57.187719, 'place_id_m175': 176, 'longtude_m175': 65.551108, 'latitude_m175': 57.137886, 'place_id_m176': 177, 'longtude_m176': 65.444676, 'latitude_m176': 57.154464, 'place_id_m177': 178, 'longtude_m177': 65.504899, 'latitude_m177': 57.162318, 'place_id_m178': 179, 'longtude_m178': 65.46955, 'latitude_m178': 57.133617, 'place_id_m179': 180, 'longtude_m179': 65.57344, 'latitude_m179': 57.106678, 'place_id_m180': 181, 'longtude_m180': 65.602636, 'latitude_m180': 57.184875, 'place_id_m181': 182, 'longtude_m181': 65.523368, 'latitude_m181': 57.129778, 'place_id_m182': 183, 'longtude_m182': 65.584068, 'latitude_m182': 57.107783, 'place_id_m183': 184, 'longtude_m183': 65.575039, 'latitude_m183': 57.106052, 'place_id_m184': 185, 'longtude_m184': 65.566856, 'latitude_m184': 57.121276, 'place_id_m185': 186, 'longtude_m185': 65.612859, 'latitude_m185': 57.105275, 'place_id_m186': 187, 'longtude_m186': 65.534157, 'latitude_m186': 57.148512, 'place_id_m187': 188, 'longtude_m187': 65.56125, 'latitude_m187': 57.122361, 'place_id_m188': 189, 'longtude_m188': 65.533052, 'latitude_m188': 57.160439, 'place_id_m189': 190, 'longtude_m189': 65.587652, 'latitude_m189': 57.103559, 'place_id_m190': 191, 'longtude_m190': 65.561044, 'latitude_m190': 57.159638, 'place_id_m191': 192, 'longtude_m191': 65.540562, 'latitude_m191': 57.158218, 'place_id_m192': 193, 'longtude_m192': 65.571716, 'latitude_m192': 57.105324, 'place_id_m193': 194, 'longtude_m193': 65.550578, 'latitude_m193': 57.174567, 'place_id_m194': 195, 'longtude_m194': 65.509489, 'latitude_m194': 57.249149, 'place_id_m195': 196, 'longtude_m195': 65.550336, 'latitude_m195': 57.121452, 'place_id_m196': 197, 'longtude_m196': 65.567727, 'latitude_m196': 57.130838, 'place_id_m197': 198, 'longtude_m197': 65.536619, 'latitude_m197': 57.155435, 'place_id_m198': 199, 'longtude_m198': 65.535882, 'latitude_m198': 57.151159}]\n(Background on this error at: https://sqlalche.me/e/14/f405)"
     ]
    }
   ],
   "source": [
    "coordinates.to_sql(\n",
    "    name=\"coordinates\", \n",
    "    con=engine, \n",
    "    schema=\"dbo\",\n",
    "    index=False,\n",
    "    method=\"multi\",\n",
    "    if_exists=\"append\" # append - добавляет строки в существующую таблицу /\n",
    ")                      # replace - дропает таблицу и записывает заново"
   ]
  },
  {
   "cell_type": "markdown",
   "metadata": {},
   "source": [
    "----\n",
    "\n",
    "Тут у меня получилось создать новую таблицу с именем \"addresses\".\n",
    "\n",
    "Но не получается записать в уже существующую \"adresses\""
   ]
  },
  {
   "cell_type": "code",
   "execution_count": 47,
   "metadata": {},
   "outputs": [],
   "source": [
    "addresses = data[[\"postal_code\", \"house\", \"street\", \"locality\", \"province\", \"country\"]]"
   ]
  },
  {
   "cell_type": "code",
   "execution_count": 44,
   "metadata": {},
   "outputs": [],
   "source": [
    "addresses.insert(0, \"place_id\", data.index+1)"
   ]
  },
  {
   "cell_type": "code",
   "execution_count": 49,
   "metadata": {},
   "outputs": [
    {
     "data": {
      "text/plain": [
       "199"
      ]
     },
     "execution_count": 49,
     "metadata": {},
     "output_type": "execute_result"
    }
   ],
   "source": [
    "addresses.to_sql(\n",
    "    name=\"addresses\", \n",
    "    con=engine, \n",
    "    schema=\"dbo\",\n",
    "    index=False,\n",
    "    method=\"multi\",\n",
    "    if_exists=\"replace\" # append - добавляет строки в существующую таблицу /\n",
    ")                      # replace - дропает таблицу и записывает заново"
   ]
  },
  {
   "cell_type": "code",
   "execution_count": null,
   "metadata": {},
   "outputs": [],
   "source": []
  }
 ],
 "metadata": {
  "kernelspec": {
   "display_name": "3.10 diplom",
   "language": "python",
   "name": "python3"
  },
  "language_info": {
   "codemirror_mode": {
    "name": "ipython",
    "version": 3
   },
   "file_extension": ".py",
   "mimetype": "text/x-python",
   "name": "python",
   "nbconvert_exporter": "python",
   "pygments_lexer": "ipython3",
   "version": "3.10.6"
  }
 },
 "nbformat": 4,
 "nbformat_minor": 2
}
