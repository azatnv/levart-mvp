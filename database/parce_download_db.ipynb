{
 "cells": [
  {
   "cell_type": "code",
   "execution_count": 1,
   "metadata": {},
   "outputs": [],
   "source": [
    "# !pip install sqlalchemy==1.4.46 # с версией 2.0 не работает с pandas"
   ]
  },
  {
   "cell_type": "code",
   "execution_count": 43,
   "metadata": {},
   "outputs": [],
   "source": [
    "import os\n",
    "\n",
    "import pandas as pd\n",
    "from sqlalchemy import create_engine\n",
    "import sqlalchemy\n",
    "\n",
    "import datetime"
   ]
  },
  {
   "cell_type": "code",
   "execution_count": 105,
   "metadata": {},
   "outputs": [],
   "source": [
    "posgres_username = \"user\"\n",
    "posgres_password = \"password\"\n",
    "hostname = \"79.137.206.67:5432\"\n",
    "database_name = \"traveldata\"\n",
    "\n",
    "engine_setup = 'postgresql+psycopg2://{}:{}@{}/{}'.format(\n",
    "    posgres_username,\n",
    "    posgres_password,\n",
    "    hostname,\n",
    "    database_name\n",
    ")"
   ]
  },
  {
   "cell_type": "code",
   "execution_count": 23,
   "metadata": {},
   "outputs": [],
   "source": [
    "# create engine \n",
    "engine = create_engine(engine_setup)"
   ]
  },
  {
   "cell_type": "code",
   "execution_count": 24,
   "metadata": {},
   "outputs": [],
   "source": [
    "data_root = \"./data/\""
   ]
  },
  {
   "cell_type": "markdown",
   "metadata": {},
   "source": [
    "### download_data"
   ]
  },
  {
   "cell_type": "code",
   "execution_count": 49,
   "metadata": {},
   "outputs": [],
   "source": [
    "data = pd.read_json(\n",
    "    os.path.join(\n",
    "        data_root,\n",
    "        \"TA_places_with_YANDEX_addresses.json\"\n",
    "    ), \n",
    "    orient='split',\n",
    "    encoding=\"utf-8\"\n",
    ")"
   ]
  },
  {
   "cell_type": "code",
   "execution_count": 50,
   "metadata": {},
   "outputs": [
    {
     "data": {
      "text/html": [
       "<div>\n",
       "<style scoped>\n",
       "    .dataframe tbody tr th:only-of-type {\n",
       "        vertical-align: middle;\n",
       "    }\n",
       "\n",
       "    .dataframe tbody tr th {\n",
       "        vertical-align: top;\n",
       "    }\n",
       "\n",
       "    .dataframe thead th {\n",
       "        text-align: right;\n",
       "    }\n",
       "</style>\n",
       "<table border=\"1\" class=\"dataframe\">\n",
       "  <thead>\n",
       "    <tr style=\"text-align: right;\">\n",
       "      <th></th>\n",
       "      <th>place_name</th>\n",
       "      <th>place_tags</th>\n",
       "      <th>place_address</th>\n",
       "      <th>place_rating</th>\n",
       "      <th>reviews_qty</th>\n",
       "      <th>reviews</th>\n",
       "      <th>place_url</th>\n",
       "      <th>longitude</th>\n",
       "      <th>latitude</th>\n",
       "      <th>yandex_place_address</th>\n",
       "      <th>postal_code</th>\n",
       "      <th>house</th>\n",
       "      <th>street</th>\n",
       "      <th>locality</th>\n",
       "      <th>province</th>\n",
       "      <th>country</th>\n",
       "    </tr>\n",
       "  </thead>\n",
       "  <tbody>\n",
       "    <tr>\n",
       "      <th>0</th>\n",
       "      <td>Набережная Pеки Тура</td>\n",
       "      <td>[Пирсы и пляжные променады]</td>\n",
       "      <td>ул. Республики, 4, Тюмень 625003 Россия</td>\n",
       "      <td>4.5</td>\n",
       "      <td>639</td>\n",
       "      <td>[{'review_title': 'Интересно прогуляться', 're...</td>\n",
       "      <td>https://www.tripadvisor.ru/Attraction_Review-g...</td>\n",
       "      <td>65.522371</td>\n",
       "      <td>57.161884</td>\n",
       "      <td>Россия, Тюмень, улица Республики, 4</td>\n",
       "      <td>NaN</td>\n",
       "      <td>4</td>\n",
       "      <td>улица Республики</td>\n",
       "      <td>Тюмень</td>\n",
       "      <td>Тюменская область</td>\n",
       "      <td>Россия</td>\n",
       "    </tr>\n",
       "    <tr>\n",
       "      <th>1</th>\n",
       "      <td>Мост Влюбленных (Пешеходный)</td>\n",
       "      <td>[Мосты]</td>\n",
       "      <td>ул.Республики и ул.Ленина, Тюмень 625026 Россия</td>\n",
       "      <td>4.5</td>\n",
       "      <td>516</td>\n",
       "      <td>[{'review_title': 'Мост влюбленных. Красота', ...</td>\n",
       "      <td>https://www.tripadvisor.ru/Attraction_Review-g...</td>\n",
       "      <td>65.533429</td>\n",
       "      <td>57.154605</td>\n",
       "      <td>Россия, Тюмень, улица Ленина</td>\n",
       "      <td>NaN</td>\n",
       "      <td>None</td>\n",
       "      <td>улица Ленина</td>\n",
       "      <td>Тюмень</td>\n",
       "      <td>Тюменская область</td>\n",
       "      <td>Россия</td>\n",
       "    </tr>\n",
       "    <tr>\n",
       "      <th>2</th>\n",
       "      <td>Сквер сибирских кошек</td>\n",
       "      <td>[Парки]</td>\n",
       "      <td>ул.Первомайская, 11, Тюмень 625000 Россия</td>\n",
       "      <td>4.0</td>\n",
       "      <td>298</td>\n",
       "      <td>[{'review_title': 'Забавно', 'review_body': 'К...</td>\n",
       "      <td>https://www.tripadvisor.ru/Attraction_Review-g...</td>\n",
       "      <td>65.536708</td>\n",
       "      <td>57.153741</td>\n",
       "      <td>Россия, Тюмень, Первомайская улица, 11</td>\n",
       "      <td>625000.0</td>\n",
       "      <td>11</td>\n",
       "      <td>Первомайская улица</td>\n",
       "      <td>Тюмень</td>\n",
       "      <td>Тюменская область</td>\n",
       "      <td>Россия</td>\n",
       "    </tr>\n",
       "    <tr>\n",
       "      <th>3</th>\n",
       "      <td>Свято-троицкий мужской монастырь</td>\n",
       "      <td>[Церкви и соборы]</td>\n",
       "      <td>Коммунистическая, 10, Тюмень 625001 Россия</td>\n",
       "      <td>5.0</td>\n",
       "      <td>58</td>\n",
       "      <td>[{'review_title': 'БЛАГОДАТНОЕ МЕСТО', 'review...</td>\n",
       "      <td>https://www.tripadvisor.ru/Attraction_Review-g...</td>\n",
       "      <td>65.512840</td>\n",
       "      <td>57.169863</td>\n",
       "      <td>Россия, Тюмень, Коммунистическая улица, 10</td>\n",
       "      <td>625001.0</td>\n",
       "      <td>10</td>\n",
       "      <td>Коммунистическая улица</td>\n",
       "      <td>Тюмень</td>\n",
       "      <td>Тюменская область</td>\n",
       "      <td>Россия</td>\n",
       "    </tr>\n",
       "    <tr>\n",
       "      <th>4</th>\n",
       "      <td>Памятник бездомной собаке</td>\n",
       "      <td>[Культурные объекты и достопримечательности, П...</td>\n",
       "      <td>ул. Орджоникидзе, 63, Тюмень 625002 Россия</td>\n",
       "      <td>4.5</td>\n",
       "      <td>93</td>\n",
       "      <td>[{'review_title': 'Памятник-копилка', 'review_...</td>\n",
       "      <td>https://www.tripadvisor.ru/Attraction_Review-g...</td>\n",
       "      <td>65.541999</td>\n",
       "      <td>57.149357</td>\n",
       "      <td>Россия, Тюмень, улица Орджоникидзе, 63</td>\n",
       "      <td>625000.0</td>\n",
       "      <td>63</td>\n",
       "      <td>улица Орджоникидзе</td>\n",
       "      <td>Тюмень</td>\n",
       "      <td>Тюменская область</td>\n",
       "      <td>Россия</td>\n",
       "    </tr>\n",
       "  </tbody>\n",
       "</table>\n",
       "</div>"
      ],
      "text/plain": [
       "                         place_name  \\\n",
       "0              Набережная Pеки Тура   \n",
       "1      Мост Влюбленных (Пешеходный)   \n",
       "2             Сквер сибирских кошек   \n",
       "3  Свято-троицкий мужской монастырь   \n",
       "4         Памятник бездомной собаке   \n",
       "\n",
       "                                          place_tags  \\\n",
       "0                        [Пирсы и пляжные променады]   \n",
       "1                                            [Мосты]   \n",
       "2                                            [Парки]   \n",
       "3                                  [Церкви и соборы]   \n",
       "4  [Культурные объекты и достопримечательности, П...   \n",
       "\n",
       "                                     place_address  place_rating  reviews_qty  \\\n",
       "0          ул. Республики, 4, Тюмень 625003 Россия           4.5          639   \n",
       "1  ул.Республики и ул.Ленина, Тюмень 625026 Россия           4.5          516   \n",
       "2        ул.Первомайская, 11, Тюмень 625000 Россия           4.0          298   \n",
       "3       Коммунистическая, 10, Тюмень 625001 Россия           5.0           58   \n",
       "4       ул. Орджоникидзе, 63, Тюмень 625002 Россия           4.5           93   \n",
       "\n",
       "                                             reviews  \\\n",
       "0  [{'review_title': 'Интересно прогуляться', 're...   \n",
       "1  [{'review_title': 'Мост влюбленных. Красота', ...   \n",
       "2  [{'review_title': 'Забавно', 'review_body': 'К...   \n",
       "3  [{'review_title': 'БЛАГОДАТНОЕ МЕСТО', 'review...   \n",
       "4  [{'review_title': 'Памятник-копилка', 'review_...   \n",
       "\n",
       "                                           place_url  longitude   latitude  \\\n",
       "0  https://www.tripadvisor.ru/Attraction_Review-g...  65.522371  57.161884   \n",
       "1  https://www.tripadvisor.ru/Attraction_Review-g...  65.533429  57.154605   \n",
       "2  https://www.tripadvisor.ru/Attraction_Review-g...  65.536708  57.153741   \n",
       "3  https://www.tripadvisor.ru/Attraction_Review-g...  65.512840  57.169863   \n",
       "4  https://www.tripadvisor.ru/Attraction_Review-g...  65.541999  57.149357   \n",
       "\n",
       "                         yandex_place_address  postal_code house  \\\n",
       "0         Россия, Тюмень, улица Республики, 4          NaN     4   \n",
       "1                Россия, Тюмень, улица Ленина          NaN  None   \n",
       "2      Россия, Тюмень, Первомайская улица, 11     625000.0    11   \n",
       "3  Россия, Тюмень, Коммунистическая улица, 10     625001.0    10   \n",
       "4      Россия, Тюмень, улица Орджоникидзе, 63     625000.0    63   \n",
       "\n",
       "                   street locality           province country  \n",
       "0        улица Республики   Тюмень  Тюменская область  Россия  \n",
       "1            улица Ленина   Тюмень  Тюменская область  Россия  \n",
       "2      Первомайская улица   Тюмень  Тюменская область  Россия  \n",
       "3  Коммунистическая улица   Тюмень  Тюменская область  Россия  \n",
       "4      улица Орджоникидзе   Тюмень  Тюменская область  Россия  "
      ]
     },
     "execution_count": 50,
     "metadata": {},
     "output_type": "execute_result"
    }
   ],
   "source": [
    "data.head()"
   ]
  },
  {
   "cell_type": "markdown",
   "metadata": {},
   "source": [
    "-----"
   ]
  },
  {
   "cell_type": "code",
   "execution_count": 51,
   "metadata": {},
   "outputs": [],
   "source": [
    "places = data[[\"place_name\"]]"
   ]
  },
  {
   "cell_type": "code",
   "execution_count": 52,
   "metadata": {},
   "outputs": [
    {
     "data": {
      "text/plain": [
       "199"
      ]
     },
     "execution_count": 52,
     "metadata": {},
     "output_type": "execute_result"
    }
   ],
   "source": [
    "places.to_sql(\n",
    "    name=\"places\", \n",
    "    con=engine, \n",
    "    schema=\"dbo\",\n",
    "    index=False,\n",
    "    method=\"multi\",\n",
    "    if_exists=\"append\" # append - добавляет строки в существующую таблицу /\n",
    ")                      # replace - дропает таблицу и записывает заново"
   ]
  },
  {
   "cell_type": "markdown",
   "metadata": {},
   "source": [
    "----"
   ]
  },
  {
   "cell_type": "code",
   "execution_count": 53,
   "metadata": {},
   "outputs": [],
   "source": [
    "tags = data[[\"place_tags\"]]"
   ]
  },
  {
   "cell_type": "code",
   "execution_count": 54,
   "metadata": {},
   "outputs": [],
   "source": [
    "tags.insert(0, \"place_id\", data.index+1)"
   ]
  },
  {
   "cell_type": "code",
   "execution_count": 55,
   "metadata": {},
   "outputs": [],
   "source": [
    "tags.columns = [\"place_id\", \"tag\"]"
   ]
  },
  {
   "cell_type": "code",
   "execution_count": 56,
   "metadata": {},
   "outputs": [],
   "source": [
    "tags = tags.explode(\"tag\").copy()"
   ]
  },
  {
   "cell_type": "code",
   "execution_count": 57,
   "metadata": {},
   "outputs": [
    {
     "data": {
      "text/html": [
       "<div>\n",
       "<style scoped>\n",
       "    .dataframe tbody tr th:only-of-type {\n",
       "        vertical-align: middle;\n",
       "    }\n",
       "\n",
       "    .dataframe tbody tr th {\n",
       "        vertical-align: top;\n",
       "    }\n",
       "\n",
       "    .dataframe thead th {\n",
       "        text-align: right;\n",
       "    }\n",
       "</style>\n",
       "<table border=\"1\" class=\"dataframe\">\n",
       "  <thead>\n",
       "    <tr style=\"text-align: right;\">\n",
       "      <th></th>\n",
       "      <th>place_id</th>\n",
       "      <th>tag</th>\n",
       "    </tr>\n",
       "  </thead>\n",
       "  <tbody>\n",
       "    <tr>\n",
       "      <th>0</th>\n",
       "      <td>1</td>\n",
       "      <td>Пирсы и пляжные променады</td>\n",
       "    </tr>\n",
       "    <tr>\n",
       "      <th>1</th>\n",
       "      <td>2</td>\n",
       "      <td>Мосты</td>\n",
       "    </tr>\n",
       "    <tr>\n",
       "      <th>2</th>\n",
       "      <td>3</td>\n",
       "      <td>Парки</td>\n",
       "    </tr>\n",
       "    <tr>\n",
       "      <th>3</th>\n",
       "      <td>4</td>\n",
       "      <td>Церкви и соборы</td>\n",
       "    </tr>\n",
       "    <tr>\n",
       "      <th>4</th>\n",
       "      <td>5</td>\n",
       "      <td>Культурные объекты и достопримечательности</td>\n",
       "    </tr>\n",
       "    <tr>\n",
       "      <th>4</th>\n",
       "      <td>5</td>\n",
       "      <td>Памятники и статуи</td>\n",
       "    </tr>\n",
       "    <tr>\n",
       "      <th>5</th>\n",
       "      <td>6</td>\n",
       "      <td>Церкви и соборы</td>\n",
       "    </tr>\n",
       "    <tr>\n",
       "      <th>6</th>\n",
       "      <td>7</td>\n",
       "      <td>Театры</td>\n",
       "    </tr>\n",
       "    <tr>\n",
       "      <th>7</th>\n",
       "      <td>8</td>\n",
       "      <td>Парки</td>\n",
       "    </tr>\n",
       "    <tr>\n",
       "      <th>8</th>\n",
       "      <td>9</td>\n",
       "      <td>Культурные объекты и достопримечательности</td>\n",
       "    </tr>\n",
       "  </tbody>\n",
       "</table>\n",
       "</div>"
      ],
      "text/plain": [
       "   place_id                                         tag\n",
       "0         1                   Пирсы и пляжные променады\n",
       "1         2                                       Мосты\n",
       "2         3                                       Парки\n",
       "3         4                             Церкви и соборы\n",
       "4         5  Культурные объекты и достопримечательности\n",
       "4         5                          Памятники и статуи\n",
       "5         6                             Церкви и соборы\n",
       "6         7                                      Театры\n",
       "7         8                                       Парки\n",
       "8         9  Культурные объекты и достопримечательности"
      ]
     },
     "execution_count": 57,
     "metadata": {},
     "output_type": "execute_result"
    }
   ],
   "source": [
    "tags.head(10)"
   ]
  },
  {
   "cell_type": "code",
   "execution_count": 58,
   "metadata": {},
   "outputs": [
    {
     "data": {
      "text/plain": [
       "227"
      ]
     },
     "execution_count": 58,
     "metadata": {},
     "output_type": "execute_result"
    }
   ],
   "source": [
    "tags.to_sql(\n",
    "    name=\"tags\", \n",
    "    con=engine, \n",
    "    schema=\"dbo\",\n",
    "    index=False,\n",
    "    method=\"multi\",\n",
    "    if_exists=\"append\" # append - добавляет строки в существующую таблицу /\n",
    ")                      # replace - дропает таблицу и записывает заново"
   ]
  },
  {
   "cell_type": "markdown",
   "metadata": {},
   "source": [
    "----"
   ]
  },
  {
   "cell_type": "code",
   "execution_count": 59,
   "metadata": {},
   "outputs": [],
   "source": [
    "comments = data[[\"reviews\"]]"
   ]
  },
  {
   "cell_type": "code",
   "execution_count": 60,
   "metadata": {},
   "outputs": [],
   "source": [
    "comments.insert(0, \"place_id\", data.index+1)"
   ]
  },
  {
   "cell_type": "code",
   "execution_count": 61,
   "metadata": {},
   "outputs": [],
   "source": [
    "comments = comments.explode(\"reviews\").copy()"
   ]
  },
  {
   "cell_type": "code",
   "execution_count": 62,
   "metadata": {},
   "outputs": [],
   "source": [
    "comments.columns = [\"place_id\", \"comment\"]"
   ]
  },
  {
   "cell_type": "code",
   "execution_count": 63,
   "metadata": {},
   "outputs": [
    {
     "data": {
      "text/plain": [
       "3841"
      ]
     },
     "execution_count": 63,
     "metadata": {},
     "output_type": "execute_result"
    }
   ],
   "source": [
    "comments.to_sql(\n",
    "    name=\"comments\", \n",
    "    con=engine, \n",
    "    schema=\"dbo\",\n",
    "    index=False,\n",
    "    method=\"multi\",\n",
    "    dtype={\"comment\": sqlalchemy.types.JSON},\n",
    "    if_exists=\"append\" # append - добавляет строки в существующую таблицу /\n",
    ")                      # replace - дропает таблицу и записывает заново"
   ]
  },
  {
   "cell_type": "markdown",
   "metadata": {},
   "source": [
    "----"
   ]
  },
  {
   "cell_type": "code",
   "execution_count": 64,
   "metadata": {},
   "outputs": [],
   "source": [
    "place_info = data[[\"place_rating\",\t\"reviews_qty\"]]"
   ]
  },
  {
   "cell_type": "code",
   "execution_count": 65,
   "metadata": {},
   "outputs": [],
   "source": [
    "place_info.insert(0, \"place_id\", data.index+1)"
   ]
  },
  {
   "cell_type": "code",
   "execution_count": 66,
   "metadata": {},
   "outputs": [],
   "source": [
    "place_info.insert(1, \"info_datetime\", datetime.datetime.now().strftime(\"%Y-%m-%d %H:%M:%S\"))"
   ]
  },
  {
   "cell_type": "code",
   "execution_count": 72,
   "metadata": {},
   "outputs": [],
   "source": [
    "place_info.columns = [\"place_id\", \"info_datetime\", \"rating\", \"qnt_comments\"]"
   ]
  },
  {
   "cell_type": "code",
   "execution_count": 73,
   "metadata": {},
   "outputs": [
    {
     "data": {
      "text/html": [
       "<div>\n",
       "<style scoped>\n",
       "    .dataframe tbody tr th:only-of-type {\n",
       "        vertical-align: middle;\n",
       "    }\n",
       "\n",
       "    .dataframe tbody tr th {\n",
       "        vertical-align: top;\n",
       "    }\n",
       "\n",
       "    .dataframe thead th {\n",
       "        text-align: right;\n",
       "    }\n",
       "</style>\n",
       "<table border=\"1\" class=\"dataframe\">\n",
       "  <thead>\n",
       "    <tr style=\"text-align: right;\">\n",
       "      <th></th>\n",
       "      <th>place_id</th>\n",
       "      <th>info_datetime</th>\n",
       "      <th>rating</th>\n",
       "      <th>qnt_comments</th>\n",
       "    </tr>\n",
       "  </thead>\n",
       "  <tbody>\n",
       "    <tr>\n",
       "      <th>0</th>\n",
       "      <td>1</td>\n",
       "      <td>2023-03-08 17:22:31</td>\n",
       "      <td>4.5</td>\n",
       "      <td>639</td>\n",
       "    </tr>\n",
       "    <tr>\n",
       "      <th>1</th>\n",
       "      <td>2</td>\n",
       "      <td>2023-03-08 17:22:31</td>\n",
       "      <td>4.5</td>\n",
       "      <td>516</td>\n",
       "    </tr>\n",
       "    <tr>\n",
       "      <th>2</th>\n",
       "      <td>3</td>\n",
       "      <td>2023-03-08 17:22:31</td>\n",
       "      <td>4.0</td>\n",
       "      <td>298</td>\n",
       "    </tr>\n",
       "    <tr>\n",
       "      <th>3</th>\n",
       "      <td>4</td>\n",
       "      <td>2023-03-08 17:22:31</td>\n",
       "      <td>5.0</td>\n",
       "      <td>58</td>\n",
       "    </tr>\n",
       "    <tr>\n",
       "      <th>4</th>\n",
       "      <td>5</td>\n",
       "      <td>2023-03-08 17:22:31</td>\n",
       "      <td>4.5</td>\n",
       "      <td>93</td>\n",
       "    </tr>\n",
       "  </tbody>\n",
       "</table>\n",
       "</div>"
      ],
      "text/plain": [
       "   place_id        info_datetime  rating  qnt_comments\n",
       "0         1  2023-03-08 17:22:31     4.5           639\n",
       "1         2  2023-03-08 17:22:31     4.5           516\n",
       "2         3  2023-03-08 17:22:31     4.0           298\n",
       "3         4  2023-03-08 17:22:31     5.0            58\n",
       "4         5  2023-03-08 17:22:31     4.5            93"
      ]
     },
     "execution_count": 73,
     "metadata": {},
     "output_type": "execute_result"
    }
   ],
   "source": [
    "place_info.head()"
   ]
  },
  {
   "cell_type": "code",
   "execution_count": 74,
   "metadata": {},
   "outputs": [
    {
     "data": {
      "text/plain": [
       "199"
      ]
     },
     "execution_count": 74,
     "metadata": {},
     "output_type": "execute_result"
    }
   ],
   "source": [
    "place_info.to_sql(\n",
    "    name=\"place_info\", \n",
    "    con=engine, \n",
    "    schema=\"dbo\",\n",
    "    index=False,\n",
    "    method=\"multi\",\n",
    "    if_exists=\"append\" # append - добавляет строки в существующую таблицу /\n",
    ")                      # replace - дропает таблицу и записывает заново"
   ]
  },
  {
   "attachments": {},
   "cell_type": "markdown",
   "metadata": {},
   "source": [
    "----"
   ]
  },
  {
   "cell_type": "code",
   "execution_count": 76,
   "metadata": {},
   "outputs": [],
   "source": [
    "coordinates = data[[\"longitude\", \"latitude\"]].copy()"
   ]
  },
  {
   "cell_type": "code",
   "execution_count": 77,
   "metadata": {},
   "outputs": [],
   "source": [
    "coordinates.insert(0, \"place_id\", data.index+1)"
   ]
  },
  {
   "cell_type": "code",
   "execution_count": 78,
   "metadata": {},
   "outputs": [
    {
     "data": {
      "text/plain": [
       "199"
      ]
     },
     "execution_count": 78,
     "metadata": {},
     "output_type": "execute_result"
    }
   ],
   "source": [
    "coordinates.to_sql(\n",
    "    name=\"coordinates\", \n",
    "    con=engine, \n",
    "    schema=\"dbo\",\n",
    "    index=False,\n",
    "    method=\"multi\",\n",
    "    if_exists=\"append\" # append - добавляет строки в существующую таблицу /\n",
    ")                      # replace - дропает таблицу и записывает заново"
   ]
  },
  {
   "attachments": {},
   "cell_type": "markdown",
   "metadata": {},
   "source": [
    "----"
   ]
  },
  {
   "cell_type": "code",
   "execution_count": 79,
   "metadata": {},
   "outputs": [],
   "source": [
    "addresses = data[[\"postal_code\", \"house\", \"street\", \"locality\", \"province\", \"country\"]]"
   ]
  },
  {
   "cell_type": "code",
   "execution_count": 94,
   "metadata": {},
   "outputs": [
    {
     "name": "stderr",
     "output_type": "stream",
     "text": [
      "/tmp/ipykernel_8781/2864112592.py:1: SettingWithCopyWarning: \n",
      "A value is trying to be set on a copy of a slice from a DataFrame.\n",
      "Try using .loc[row_indexer,col_indexer] = value instead\n",
      "\n",
      "See the caveats in the documentation: https://pandas.pydata.org/pandas-docs/stable/user_guide/indexing.html#returning-a-view-versus-a-copy\n",
      "  addresses.postal_code = addresses.postal_code.astype('Int64')\n"
     ]
    }
   ],
   "source": [
    "addresses.postal_code = addresses.postal_code.astype('Int64')"
   ]
  },
  {
   "cell_type": "code",
   "execution_count": 95,
   "metadata": {},
   "outputs": [
    {
     "data": {
      "text/html": [
       "<div>\n",
       "<style scoped>\n",
       "    .dataframe tbody tr th:only-of-type {\n",
       "        vertical-align: middle;\n",
       "    }\n",
       "\n",
       "    .dataframe tbody tr th {\n",
       "        vertical-align: top;\n",
       "    }\n",
       "\n",
       "    .dataframe thead th {\n",
       "        text-align: right;\n",
       "    }\n",
       "</style>\n",
       "<table border=\"1\" class=\"dataframe\">\n",
       "  <thead>\n",
       "    <tr style=\"text-align: right;\">\n",
       "      <th></th>\n",
       "      <th>place_id</th>\n",
       "      <th>postal_code</th>\n",
       "      <th>house</th>\n",
       "      <th>street</th>\n",
       "      <th>locality</th>\n",
       "      <th>province</th>\n",
       "      <th>country</th>\n",
       "    </tr>\n",
       "  </thead>\n",
       "  <tbody>\n",
       "    <tr>\n",
       "      <th>0</th>\n",
       "      <td>1</td>\n",
       "      <td>&lt;NA&gt;</td>\n",
       "      <td>4</td>\n",
       "      <td>улица Республики</td>\n",
       "      <td>Тюмень</td>\n",
       "      <td>Тюменская область</td>\n",
       "      <td>Россия</td>\n",
       "    </tr>\n",
       "    <tr>\n",
       "      <th>1</th>\n",
       "      <td>2</td>\n",
       "      <td>&lt;NA&gt;</td>\n",
       "      <td>None</td>\n",
       "      <td>улица Ленина</td>\n",
       "      <td>Тюмень</td>\n",
       "      <td>Тюменская область</td>\n",
       "      <td>Россия</td>\n",
       "    </tr>\n",
       "    <tr>\n",
       "      <th>2</th>\n",
       "      <td>3</td>\n",
       "      <td>625000</td>\n",
       "      <td>11</td>\n",
       "      <td>Первомайская улица</td>\n",
       "      <td>Тюмень</td>\n",
       "      <td>Тюменская область</td>\n",
       "      <td>Россия</td>\n",
       "    </tr>\n",
       "    <tr>\n",
       "      <th>3</th>\n",
       "      <td>4</td>\n",
       "      <td>625001</td>\n",
       "      <td>10</td>\n",
       "      <td>Коммунистическая улица</td>\n",
       "      <td>Тюмень</td>\n",
       "      <td>Тюменская область</td>\n",
       "      <td>Россия</td>\n",
       "    </tr>\n",
       "    <tr>\n",
       "      <th>4</th>\n",
       "      <td>5</td>\n",
       "      <td>625000</td>\n",
       "      <td>63</td>\n",
       "      <td>улица Орджоникидзе</td>\n",
       "      <td>Тюмень</td>\n",
       "      <td>Тюменская область</td>\n",
       "      <td>Россия</td>\n",
       "    </tr>\n",
       "    <tr>\n",
       "      <th>...</th>\n",
       "      <td>...</td>\n",
       "      <td>...</td>\n",
       "      <td>...</td>\n",
       "      <td>...</td>\n",
       "      <td>...</td>\n",
       "      <td>...</td>\n",
       "      <td>...</td>\n",
       "    </tr>\n",
       "    <tr>\n",
       "      <th>194</th>\n",
       "      <td>195</td>\n",
       "      <td>&lt;NA&gt;</td>\n",
       "      <td>None</td>\n",
       "      <td>4-й км Салаирского тракта</td>\n",
       "      <td>Тюмень</td>\n",
       "      <td>Тюменская область</td>\n",
       "      <td>Россия</td>\n",
       "    </tr>\n",
       "    <tr>\n",
       "      <th>195</th>\n",
       "      <td>196</td>\n",
       "      <td>625007</td>\n",
       "      <td>137</td>\n",
       "      <td>улица Мельникайте</td>\n",
       "      <td>Тюмень</td>\n",
       "      <td>Тюменская область</td>\n",
       "      <td>Россия</td>\n",
       "    </tr>\n",
       "    <tr>\n",
       "      <th>196</th>\n",
       "      <td>197</td>\n",
       "      <td>625026</td>\n",
       "      <td>69Б</td>\n",
       "      <td>улица 50 лет ВЛКСМ</td>\n",
       "      <td>Тюмень</td>\n",
       "      <td>Тюменская область</td>\n",
       "      <td>Россия</td>\n",
       "    </tr>\n",
       "    <tr>\n",
       "      <th>197</th>\n",
       "      <td>198</td>\n",
       "      <td>625000</td>\n",
       "      <td>39</td>\n",
       "      <td>улица Республики</td>\n",
       "      <td>Тюмень</td>\n",
       "      <td>Тюменская область</td>\n",
       "      <td>Россия</td>\n",
       "    </tr>\n",
       "    <tr>\n",
       "      <th>198</th>\n",
       "      <td>199</td>\n",
       "      <td>625000</td>\n",
       "      <td>63</td>\n",
       "      <td>улица Герцена</td>\n",
       "      <td>Тюмень</td>\n",
       "      <td>Тюменская область</td>\n",
       "      <td>Россия</td>\n",
       "    </tr>\n",
       "  </tbody>\n",
       "</table>\n",
       "<p>199 rows × 7 columns</p>\n",
       "</div>"
      ],
      "text/plain": [
       "     place_id  postal_code house                     street locality  \\\n",
       "0           1         <NA>     4           улица Республики   Тюмень   \n",
       "1           2         <NA>  None               улица Ленина   Тюмень   \n",
       "2           3       625000    11         Первомайская улица   Тюмень   \n",
       "3           4       625001    10     Коммунистическая улица   Тюмень   \n",
       "4           5       625000    63         улица Орджоникидзе   Тюмень   \n",
       "..        ...          ...   ...                        ...      ...   \n",
       "194       195         <NA>  None  4-й км Салаирского тракта   Тюмень   \n",
       "195       196       625007   137          улица Мельникайте   Тюмень   \n",
       "196       197       625026   69Б         улица 50 лет ВЛКСМ   Тюмень   \n",
       "197       198       625000    39           улица Республики   Тюмень   \n",
       "198       199       625000    63              улица Герцена   Тюмень   \n",
       "\n",
       "              province country  \n",
       "0    Тюменская область  Россия  \n",
       "1    Тюменская область  Россия  \n",
       "2    Тюменская область  Россия  \n",
       "3    Тюменская область  Россия  \n",
       "4    Тюменская область  Россия  \n",
       "..                 ...     ...  \n",
       "194  Тюменская область  Россия  \n",
       "195  Тюменская область  Россия  \n",
       "196  Тюменская область  Россия  \n",
       "197  Тюменская область  Россия  \n",
       "198  Тюменская область  Россия  \n",
       "\n",
       "[199 rows x 7 columns]"
      ]
     },
     "execution_count": 95,
     "metadata": {},
     "output_type": "execute_result"
    }
   ],
   "source": [
    "addresses"
   ]
  },
  {
   "cell_type": "code",
   "execution_count": 97,
   "metadata": {},
   "outputs": [],
   "source": [
    "addresses.insert(0, \"place_id\", data.index+1)"
   ]
  },
  {
   "cell_type": "code",
   "execution_count": 103,
   "metadata": {},
   "outputs": [
    {
     "data": {
      "text/plain": [
       "6.0"
      ]
     },
     "execution_count": 103,
     "metadata": {},
     "output_type": "execute_result"
    }
   ],
   "source": [
    "addresses.house.str.len().max()"
   ]
  },
  {
   "cell_type": "code",
   "execution_count": 104,
   "metadata": {},
   "outputs": [
    {
     "data": {
      "text/plain": [
       "199"
      ]
     },
     "execution_count": 104,
     "metadata": {},
     "output_type": "execute_result"
    }
   ],
   "source": [
    "addresses.to_sql(\n",
    "    name=\"adresses\", \n",
    "    con=engine, \n",
    "    schema=\"dbo\",\n",
    "    index=False,\n",
    "    method=\"multi\",\n",
    "    if_exists=\"append\" # append - добавляет строки в существующую таблицу /\n",
    ")                      # replace - дропает таблицу и записывает заново"
   ]
  },
  {
   "cell_type": "code",
   "execution_count": null,
   "metadata": {},
   "outputs": [],
   "source": []
  }
 ],
 "metadata": {
  "kernelspec": {
   "display_name": "3.10 diplom",
   "language": "python",
   "name": "python3"
  },
  "language_info": {
   "codemirror_mode": {
    "name": "ipython",
    "version": 3
   },
   "file_extension": ".py",
   "mimetype": "text/x-python",
   "name": "python",
   "nbconvert_exporter": "python",
   "pygments_lexer": "ipython3",
   "version": "3.10.6"
  }
 },
 "nbformat": 4,
 "nbformat_minor": 2
}
